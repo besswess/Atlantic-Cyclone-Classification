{
 "cells": [
  {
   "cell_type": "markdown",
   "metadata": {},
   "source": [
    "<h3>https://www.nhc.noaa.gov/data/#hurdat</h3>\n",
    "\n",
    "The NHC publishes the tropical cyclone historical database in a format known as HURDAT, short for HURricane DATabase. These databases (Atlantic HURDAT2 and NE/NC Pacific HURDAT2) contain six-hourly information on the location, maximum winds, central pressure, and (starting in 2004) size of all known tropical cyclones and subtropical cyclones.\n"
   ]
  },
  {
   "cell_type": "markdown",
   "metadata": {},
   "source": [
    "<h2>Pre-processing</h2>"
   ]
  },
  {
   "cell_type": "code",
   "execution_count": 2,
   "metadata": {},
   "outputs": [],
   "source": [
    "import pandas as pd\n",
    "import numpy as np\n",
    "import matplotlib.pyplot as plt\n",
    "import seaborn as sns\n",
    "import re\n",
    "import datetime as dt"
   ]
  },
  {
   "cell_type": "code",
   "execution_count": 3,
   "metadata": {},
   "outputs": [],
   "source": [
    "df = pd.read_csv('atlantic.csv')"
   ]
  },
  {
   "cell_type": "code",
   "execution_count": 4,
   "metadata": {
    "scrolled": true
   },
   "outputs": [
    {
     "data": {
      "text/plain": [
       "(49105, 22)"
      ]
     },
     "execution_count": 4,
     "metadata": {},
     "output_type": "execute_result"
    }
   ],
   "source": [
    "df.shape"
   ]
  },
  {
   "cell_type": "code",
   "execution_count": 5,
   "metadata": {},
   "outputs": [
    {
     "data": {
      "text/html": [
       "<div>\n",
       "<style scoped>\n",
       "    .dataframe tbody tr th:only-of-type {\n",
       "        vertical-align: middle;\n",
       "    }\n",
       "\n",
       "    .dataframe tbody tr th {\n",
       "        vertical-align: top;\n",
       "    }\n",
       "\n",
       "    .dataframe thead th {\n",
       "        text-align: right;\n",
       "    }\n",
       "</style>\n",
       "<table border=\"1\" class=\"dataframe\">\n",
       "  <thead>\n",
       "    <tr style=\"text-align: right;\">\n",
       "      <th></th>\n",
       "      <th>ID</th>\n",
       "      <th>Name</th>\n",
       "      <th>Date</th>\n",
       "      <th>Time</th>\n",
       "      <th>Event</th>\n",
       "      <th>Status</th>\n",
       "      <th>Latitude</th>\n",
       "      <th>Longitude</th>\n",
       "      <th>Maximum Wind</th>\n",
       "      <th>Minimum Pressure</th>\n",
       "      <th>...</th>\n",
       "      <th>Low Wind SW</th>\n",
       "      <th>Low Wind NW</th>\n",
       "      <th>Moderate Wind NE</th>\n",
       "      <th>Moderate Wind SE</th>\n",
       "      <th>Moderate Wind SW</th>\n",
       "      <th>Moderate Wind NW</th>\n",
       "      <th>High Wind NE</th>\n",
       "      <th>High Wind SE</th>\n",
       "      <th>High Wind SW</th>\n",
       "      <th>High Wind NW</th>\n",
       "    </tr>\n",
       "  </thead>\n",
       "  <tbody>\n",
       "    <tr>\n",
       "      <th>0</th>\n",
       "      <td>AL011851</td>\n",
       "      <td>UNNAMED</td>\n",
       "      <td>18510625</td>\n",
       "      <td>0</td>\n",
       "      <td></td>\n",
       "      <td>HU</td>\n",
       "      <td>28.0N</td>\n",
       "      <td>94.8W</td>\n",
       "      <td>80</td>\n",
       "      <td>-999</td>\n",
       "      <td>...</td>\n",
       "      <td>-999</td>\n",
       "      <td>-999</td>\n",
       "      <td>-999</td>\n",
       "      <td>-999</td>\n",
       "      <td>-999</td>\n",
       "      <td>-999</td>\n",
       "      <td>-999</td>\n",
       "      <td>-999</td>\n",
       "      <td>-999</td>\n",
       "      <td>-999</td>\n",
       "    </tr>\n",
       "    <tr>\n",
       "      <th>1</th>\n",
       "      <td>AL011851</td>\n",
       "      <td>UNNAMED</td>\n",
       "      <td>18510625</td>\n",
       "      <td>600</td>\n",
       "      <td></td>\n",
       "      <td>HU</td>\n",
       "      <td>28.0N</td>\n",
       "      <td>95.4W</td>\n",
       "      <td>80</td>\n",
       "      <td>-999</td>\n",
       "      <td>...</td>\n",
       "      <td>-999</td>\n",
       "      <td>-999</td>\n",
       "      <td>-999</td>\n",
       "      <td>-999</td>\n",
       "      <td>-999</td>\n",
       "      <td>-999</td>\n",
       "      <td>-999</td>\n",
       "      <td>-999</td>\n",
       "      <td>-999</td>\n",
       "      <td>-999</td>\n",
       "    </tr>\n",
       "    <tr>\n",
       "      <th>2</th>\n",
       "      <td>AL011851</td>\n",
       "      <td>UNNAMED</td>\n",
       "      <td>18510625</td>\n",
       "      <td>1200</td>\n",
       "      <td></td>\n",
       "      <td>HU</td>\n",
       "      <td>28.0N</td>\n",
       "      <td>96.0W</td>\n",
       "      <td>80</td>\n",
       "      <td>-999</td>\n",
       "      <td>...</td>\n",
       "      <td>-999</td>\n",
       "      <td>-999</td>\n",
       "      <td>-999</td>\n",
       "      <td>-999</td>\n",
       "      <td>-999</td>\n",
       "      <td>-999</td>\n",
       "      <td>-999</td>\n",
       "      <td>-999</td>\n",
       "      <td>-999</td>\n",
       "      <td>-999</td>\n",
       "    </tr>\n",
       "    <tr>\n",
       "      <th>3</th>\n",
       "      <td>AL011851</td>\n",
       "      <td>UNNAMED</td>\n",
       "      <td>18510625</td>\n",
       "      <td>1800</td>\n",
       "      <td></td>\n",
       "      <td>HU</td>\n",
       "      <td>28.1N</td>\n",
       "      <td>96.5W</td>\n",
       "      <td>80</td>\n",
       "      <td>-999</td>\n",
       "      <td>...</td>\n",
       "      <td>-999</td>\n",
       "      <td>-999</td>\n",
       "      <td>-999</td>\n",
       "      <td>-999</td>\n",
       "      <td>-999</td>\n",
       "      <td>-999</td>\n",
       "      <td>-999</td>\n",
       "      <td>-999</td>\n",
       "      <td>-999</td>\n",
       "      <td>-999</td>\n",
       "    </tr>\n",
       "    <tr>\n",
       "      <th>4</th>\n",
       "      <td>AL011851</td>\n",
       "      <td>UNNAMED</td>\n",
       "      <td>18510625</td>\n",
       "      <td>2100</td>\n",
       "      <td>L</td>\n",
       "      <td>HU</td>\n",
       "      <td>28.2N</td>\n",
       "      <td>96.8W</td>\n",
       "      <td>80</td>\n",
       "      <td>-999</td>\n",
       "      <td>...</td>\n",
       "      <td>-999</td>\n",
       "      <td>-999</td>\n",
       "      <td>-999</td>\n",
       "      <td>-999</td>\n",
       "      <td>-999</td>\n",
       "      <td>-999</td>\n",
       "      <td>-999</td>\n",
       "      <td>-999</td>\n",
       "      <td>-999</td>\n",
       "      <td>-999</td>\n",
       "    </tr>\n",
       "  </tbody>\n",
       "</table>\n",
       "<p>5 rows × 22 columns</p>\n",
       "</div>"
      ],
      "text/plain": [
       "         ID                 Name      Date  Time Event Status Latitude  \\\n",
       "0  AL011851              UNNAMED  18510625     0           HU    28.0N   \n",
       "1  AL011851              UNNAMED  18510625   600           HU    28.0N   \n",
       "2  AL011851              UNNAMED  18510625  1200           HU    28.0N   \n",
       "3  AL011851              UNNAMED  18510625  1800           HU    28.1N   \n",
       "4  AL011851              UNNAMED  18510625  2100     L     HU    28.2N   \n",
       "\n",
       "  Longitude  Maximum Wind  Minimum Pressure  ...  Low Wind SW  Low Wind NW  \\\n",
       "0     94.8W            80              -999  ...         -999         -999   \n",
       "1     95.4W            80              -999  ...         -999         -999   \n",
       "2     96.0W            80              -999  ...         -999         -999   \n",
       "3     96.5W            80              -999  ...         -999         -999   \n",
       "4     96.8W            80              -999  ...         -999         -999   \n",
       "\n",
       "   Moderate Wind NE  Moderate Wind SE  Moderate Wind SW  Moderate Wind NW  \\\n",
       "0              -999              -999              -999              -999   \n",
       "1              -999              -999              -999              -999   \n",
       "2              -999              -999              -999              -999   \n",
       "3              -999              -999              -999              -999   \n",
       "4              -999              -999              -999              -999   \n",
       "\n",
       "   High Wind NE  High Wind SE  High Wind SW  High Wind NW  \n",
       "0          -999          -999          -999          -999  \n",
       "1          -999          -999          -999          -999  \n",
       "2          -999          -999          -999          -999  \n",
       "3          -999          -999          -999          -999  \n",
       "4          -999          -999          -999          -999  \n",
       "\n",
       "[5 rows x 22 columns]"
      ]
     },
     "execution_count": 5,
     "metadata": {},
     "output_type": "execute_result"
    }
   ],
   "source": [
    "df.head()"
   ]
  },
  {
   "cell_type": "code",
   "execution_count": 6,
   "metadata": {},
   "outputs": [],
   "source": [
    "df = df.drop(columns = ['ID' , 'Event'])"
   ]
  },
  {
   "cell_type": "code",
   "execution_count": 7,
   "metadata": {},
   "outputs": [],
   "source": [
    "df['Date'] = pd.to_datetime(df['Date'] , format= '%Y%m%d')"
   ]
  },
  {
   "cell_type": "code",
   "execution_count": 8,
   "metadata": {
    "scrolled": true
   },
   "outputs": [
    {
     "data": {
      "text/html": [
       "<div>\n",
       "<style scoped>\n",
       "    .dataframe tbody tr th:only-of-type {\n",
       "        vertical-align: middle;\n",
       "    }\n",
       "\n",
       "    .dataframe tbody tr th {\n",
       "        vertical-align: top;\n",
       "    }\n",
       "\n",
       "    .dataframe thead th {\n",
       "        text-align: right;\n",
       "    }\n",
       "</style>\n",
       "<table border=\"1\" class=\"dataframe\">\n",
       "  <thead>\n",
       "    <tr style=\"text-align: right;\">\n",
       "      <th></th>\n",
       "      <th>Name</th>\n",
       "      <th>Date</th>\n",
       "      <th>Time</th>\n",
       "      <th>Status</th>\n",
       "      <th>Latitude</th>\n",
       "      <th>Longitude</th>\n",
       "      <th>Maximum Wind</th>\n",
       "      <th>Minimum Pressure</th>\n",
       "      <th>Low Wind NE</th>\n",
       "      <th>Low Wind SE</th>\n",
       "      <th>Low Wind SW</th>\n",
       "      <th>Low Wind NW</th>\n",
       "      <th>Moderate Wind NE</th>\n",
       "      <th>Moderate Wind SE</th>\n",
       "      <th>Moderate Wind SW</th>\n",
       "      <th>Moderate Wind NW</th>\n",
       "      <th>High Wind NE</th>\n",
       "      <th>High Wind SE</th>\n",
       "      <th>High Wind SW</th>\n",
       "      <th>High Wind NW</th>\n",
       "    </tr>\n",
       "  </thead>\n",
       "  <tbody>\n",
       "    <tr>\n",
       "      <th>0</th>\n",
       "      <td>UNNAMED</td>\n",
       "      <td>1851-06-25</td>\n",
       "      <td>0</td>\n",
       "      <td>HU</td>\n",
       "      <td>28.0N</td>\n",
       "      <td>94.8W</td>\n",
       "      <td>80</td>\n",
       "      <td>-999</td>\n",
       "      <td>-999</td>\n",
       "      <td>-999</td>\n",
       "      <td>-999</td>\n",
       "      <td>-999</td>\n",
       "      <td>-999</td>\n",
       "      <td>-999</td>\n",
       "      <td>-999</td>\n",
       "      <td>-999</td>\n",
       "      <td>-999</td>\n",
       "      <td>-999</td>\n",
       "      <td>-999</td>\n",
       "      <td>-999</td>\n",
       "    </tr>\n",
       "    <tr>\n",
       "      <th>1</th>\n",
       "      <td>UNNAMED</td>\n",
       "      <td>1851-06-25</td>\n",
       "      <td>600</td>\n",
       "      <td>HU</td>\n",
       "      <td>28.0N</td>\n",
       "      <td>95.4W</td>\n",
       "      <td>80</td>\n",
       "      <td>-999</td>\n",
       "      <td>-999</td>\n",
       "      <td>-999</td>\n",
       "      <td>-999</td>\n",
       "      <td>-999</td>\n",
       "      <td>-999</td>\n",
       "      <td>-999</td>\n",
       "      <td>-999</td>\n",
       "      <td>-999</td>\n",
       "      <td>-999</td>\n",
       "      <td>-999</td>\n",
       "      <td>-999</td>\n",
       "      <td>-999</td>\n",
       "    </tr>\n",
       "    <tr>\n",
       "      <th>2</th>\n",
       "      <td>UNNAMED</td>\n",
       "      <td>1851-06-25</td>\n",
       "      <td>1200</td>\n",
       "      <td>HU</td>\n",
       "      <td>28.0N</td>\n",
       "      <td>96.0W</td>\n",
       "      <td>80</td>\n",
       "      <td>-999</td>\n",
       "      <td>-999</td>\n",
       "      <td>-999</td>\n",
       "      <td>-999</td>\n",
       "      <td>-999</td>\n",
       "      <td>-999</td>\n",
       "      <td>-999</td>\n",
       "      <td>-999</td>\n",
       "      <td>-999</td>\n",
       "      <td>-999</td>\n",
       "      <td>-999</td>\n",
       "      <td>-999</td>\n",
       "      <td>-999</td>\n",
       "    </tr>\n",
       "    <tr>\n",
       "      <th>3</th>\n",
       "      <td>UNNAMED</td>\n",
       "      <td>1851-06-25</td>\n",
       "      <td>1800</td>\n",
       "      <td>HU</td>\n",
       "      <td>28.1N</td>\n",
       "      <td>96.5W</td>\n",
       "      <td>80</td>\n",
       "      <td>-999</td>\n",
       "      <td>-999</td>\n",
       "      <td>-999</td>\n",
       "      <td>-999</td>\n",
       "      <td>-999</td>\n",
       "      <td>-999</td>\n",
       "      <td>-999</td>\n",
       "      <td>-999</td>\n",
       "      <td>-999</td>\n",
       "      <td>-999</td>\n",
       "      <td>-999</td>\n",
       "      <td>-999</td>\n",
       "      <td>-999</td>\n",
       "    </tr>\n",
       "    <tr>\n",
       "      <th>4</th>\n",
       "      <td>UNNAMED</td>\n",
       "      <td>1851-06-25</td>\n",
       "      <td>2100</td>\n",
       "      <td>HU</td>\n",
       "      <td>28.2N</td>\n",
       "      <td>96.8W</td>\n",
       "      <td>80</td>\n",
       "      <td>-999</td>\n",
       "      <td>-999</td>\n",
       "      <td>-999</td>\n",
       "      <td>-999</td>\n",
       "      <td>-999</td>\n",
       "      <td>-999</td>\n",
       "      <td>-999</td>\n",
       "      <td>-999</td>\n",
       "      <td>-999</td>\n",
       "      <td>-999</td>\n",
       "      <td>-999</td>\n",
       "      <td>-999</td>\n",
       "      <td>-999</td>\n",
       "    </tr>\n",
       "  </tbody>\n",
       "</table>\n",
       "</div>"
      ],
      "text/plain": [
       "                  Name       Date  Time Status Latitude Longitude  \\\n",
       "0              UNNAMED 1851-06-25     0     HU    28.0N     94.8W   \n",
       "1              UNNAMED 1851-06-25   600     HU    28.0N     95.4W   \n",
       "2              UNNAMED 1851-06-25  1200     HU    28.0N     96.0W   \n",
       "3              UNNAMED 1851-06-25  1800     HU    28.1N     96.5W   \n",
       "4              UNNAMED 1851-06-25  2100     HU    28.2N     96.8W   \n",
       "\n",
       "   Maximum Wind  Minimum Pressure  Low Wind NE  Low Wind SE  Low Wind SW  \\\n",
       "0            80              -999         -999         -999         -999   \n",
       "1            80              -999         -999         -999         -999   \n",
       "2            80              -999         -999         -999         -999   \n",
       "3            80              -999         -999         -999         -999   \n",
       "4            80              -999         -999         -999         -999   \n",
       "\n",
       "   Low Wind NW  Moderate Wind NE  Moderate Wind SE  Moderate Wind SW  \\\n",
       "0         -999              -999              -999              -999   \n",
       "1         -999              -999              -999              -999   \n",
       "2         -999              -999              -999              -999   \n",
       "3         -999              -999              -999              -999   \n",
       "4         -999              -999              -999              -999   \n",
       "\n",
       "   Moderate Wind NW  High Wind NE  High Wind SE  High Wind SW  High Wind NW  \n",
       "0              -999          -999          -999          -999          -999  \n",
       "1              -999          -999          -999          -999          -999  \n",
       "2              -999          -999          -999          -999          -999  \n",
       "3              -999          -999          -999          -999          -999  \n",
       "4              -999          -999          -999          -999          -999  "
      ]
     },
     "execution_count": 8,
     "metadata": {},
     "output_type": "execute_result"
    }
   ],
   "source": [
    "df.head()"
   ]
  },
  {
   "cell_type": "code",
   "execution_count": 9,
   "metadata": {},
   "outputs": [],
   "source": [
    "# Change all time to format HHMM.\n",
    "df['Time'] = df['Time'].astype('object')\n",
    "def hhmm(time):\n",
    "    time = str(time)\n",
    "    digits = re.findall(r'\\d', time)\n",
    "    t = ''\n",
    "    if len(digits) == 1:\n",
    "        t ='0{i}00'.format(i =time)\n",
    "    elif len(digits) == 2:\n",
    "        t = '{i}00'.format(i =time)\n",
    "    elif len(digits) == 3:\n",
    "        t = '0{i}'.format(i =time)\n",
    "    else:\n",
    "        t = time\n",
    "    return t\n",
    "\n",
    "df['Time'] = df['Time'].apply(hhmm)"
   ]
  },
  {
   "cell_type": "code",
   "execution_count": 10,
   "metadata": {},
   "outputs": [],
   "source": [
    "df['Time']=pd.to_datetime(df['Time'] , format='%H%M%S').dt.time"
   ]
  },
  {
   "cell_type": "code",
   "execution_count": 11,
   "metadata": {},
   "outputs": [],
   "source": [
    "df['Month'] = df['Date'].apply(lambda x: x.month)\n",
    "df['Year'] = df['Date'].apply(lambda x: x.year)\n",
    "\n",
    "#Scientists consider the HURDAT2 record to be accurate for landfall statistics from 1900 onward\n",
    "df=df[df.Year >=1900]"
   ]
  },
  {
   "cell_type": "code",
   "execution_count": 12,
   "metadata": {},
   "outputs": [
    {
     "name": "stdout",
     "output_type": "stream",
     "text": [
      "Missing Values in column Name =  0\n",
      "Missing Values in column Date =  0\n",
      "Missing Values in column Time =  0\n",
      "Missing Values in column Status =  0\n",
      "Missing Values in column Latitude =  0\n",
      "Missing Values in column Longitude =  0\n",
      "Missing Values in column Maximum Wind =  0\n",
      "Missing Values in column Minimum Pressure =  21604\n",
      "Missing Values in column Low Wind NE =  33956\n",
      "Missing Values in column Low Wind SE =  33956\n",
      "Missing Values in column Low Wind SW =  33956\n",
      "Missing Values in column Low Wind NW =  33956\n",
      "Missing Values in column Moderate Wind NE =  33956\n",
      "Missing Values in column Moderate Wind SE =  33956\n",
      "Missing Values in column Moderate Wind SW =  33956\n",
      "Missing Values in column Moderate Wind NW =  33956\n",
      "Missing Values in column High Wind NE =  33956\n",
      "Missing Values in column High Wind SE =  33956\n",
      "Missing Values in column High Wind SW =  33956\n",
      "Missing Values in column High Wind NW =  33956\n",
      "Missing Values in column Month =  0\n",
      "Missing Values in column Year =  0\n"
     ]
    }
   ],
   "source": [
    "#missing values are represented by -999, fill missing values with Mean\n",
    "for column in df.columns:\n",
    "    missing_cnt = df[column][df[column] == -999].count()\n",
    "    print('Missing Values in column {col} = '.format(col = column) , missing_cnt )\n",
    "    if missing_cnt!= 0:\n",
    "        #print('in ' , column)\n",
    "        mean = round(df[column][df[column] != -999 ].mean())\n",
    "        #print(\"mean\",mean)\n",
    "        index = df.loc[df[column] == -999 , column].index\n",
    "        #print(\"index\" , index )\n",
    "        df.loc[df[column] == -999 , column] = mean\n",
    "        #print(df.loc[index , column])"
   ]
  },
  {
   "cell_type": "code",
   "execution_count": 13,
   "metadata": {},
   "outputs": [
    {
     "data": {
      "text/plain": [
       "(39877, 22)"
      ]
     },
     "execution_count": 13,
     "metadata": {},
     "output_type": "execute_result"
    }
   ],
   "source": [
    "df.shape"
   ]
  },
  {
   "cell_type": "code",
   "execution_count": 14,
   "metadata": {},
   "outputs": [],
   "source": [
    "# Convert the latitude and longitude Column to numeric type.\n",
    "df['Latitude'] =  df['Latitude'].apply(lambda x: re.match('[0-9]{1,3}.[0-9]{0,1}' , x)[0])\n",
    "df['Longitude'] =   df['Longitude'].apply(lambda x: re.match('[0-9]{1,3}.[0-9]{0,1}' , x)[0])"
   ]
  },
  {
   "cell_type": "markdown",
   "metadata": {},
   "source": [
    "<h2>EDA</h2>"
   ]
  },
  {
   "cell_type": "code",
   "execution_count": 15,
   "metadata": {},
   "outputs": [],
   "source": [
    "# TD – Tropical cyclone of tropical depression intensity (< 34 knots)\n",
    "# TS – Tropical cyclone of tropical storm intensity (34-63 knots)\n",
    "# HU – Tropical cyclone of hurricane intensity (> 64 knots)\n",
    "# EX – Extratropical cyclone (of any intensity)\n",
    "# SD – Subtropical cyclone of subtropical depression intensity (< 34 knots)\n",
    "# SS – Subtropical cyclone of subtropical storm intensity (> 34 knots)\n",
    "# LO – A low that is neither a tropical cyclone, a subtropical cyclone, nor an extratropical cyclone (of any intensity)\n",
    "# WV – Tropical Wave (of any intensity)\n",
    "# DB – Disturbance (of any intensity)"
   ]
  },
  {
   "cell_type": "code",
   "execution_count": 16,
   "metadata": {
    "scrolled": false
   },
   "outputs": [
    {
     "data": {
      "image/png": "[encoded data removed]",
      "text/plain": [
       "<Figure size 432x288 with 1 Axes>"
      ]
     },
     "metadata": {},
     "output_type": "display_data"
    }
   ],
   "source": [
    "sns.set_theme(style=\"darkgrid\")\n",
    "\n",
    "status_count=sns.countplot(x='Status',data=df,order=df['Status'].value_counts().index)\n",
    "status_count.set_xticklabels(status_count.get_xticklabels())\n",
    "status_count.axes.set_ylim(0,15000)\n",
    "status_count.axes.set_title(\"Status Counts\",fontsize=15)\n",
    "status_count.set_xlabel(\"status\",fontsize=10)\n",
    "status_count.set_ylabel(\"Status Counts\",fontsize=15)\n",
    "\n",
    "for p in status_count.patches:\n",
    "    height = p.get_height()\n",
    "    status_count.text(p.get_x()+p.get_width()/2., height + 0.1,height ,ha=\"center\")"
   ]
  },
  {
   "cell_type": "code",
   "execution_count": 17,
   "metadata": {},
   "outputs": [
    {
     "data": {
      "image/png": "[encoded data removed]",
      "text/plain": [
       "<Figure size 720x576 with 2 Axes>"
      ]
     },
     "metadata": {},
     "output_type": "display_data"
    }
   ],
   "source": [
    "fig, (ax1, ax2) = plt.subplots(ncols=2, sharey=True,figsize=(10,8))\n",
    "sns.histplot(df['Latitude'].astype('float'), ax=ax1)\n",
    "ax1.set_title('Number of Cyclones over Lat')\n",
    "sns.histplot(df['Longitude'].astype('float'), ax=ax2)\n",
    "ax2.set_title('Number of Cyclones over Lon');"
   ]
  },
  {
   "cell_type": "code",
   "execution_count": 18,
   "metadata": {},
   "outputs": [
    {
     "name": "stderr",
     "output_type": "stream",
     "text": [
      "/opt/anaconda3/lib/python3.8/site-packages/seaborn/distributions.py:2551: FutureWarning: `distplot` is a deprecated function and will be removed in a future version. Please adapt your code to use either `displot` (a figure-level function with similar flexibility) or `histplot` (an axes-level function for histograms).\n",
      "  warnings.warn(msg, FutureWarning)\n",
      "/opt/anaconda3/lib/python3.8/site-packages/seaborn/distributions.py:2551: FutureWarning: `distplot` is a deprecated function and will be removed in a future version. Please adapt your code to use either `displot` (a figure-level function with similar flexibility) or `histplot` (an axes-level function for histograms).\n",
      "  warnings.warn(msg, FutureWarning)\n"
     ]
    },
    {
     "data": {
      "image/png": "[encoded data removed]",
      "text/plain": [
       "<Figure size 720x576 with 2 Axes>"
      ]
     },
     "metadata": {},
     "output_type": "display_data"
    }
   ],
   "source": [
    "fig, (ax1, ax2) = plt.subplots(ncols=2, sharey=False,figsize=(10,8))\n",
    "sns.distplot(df['Maximum Wind'],ax=ax1)\n",
    "ax1.set_title('Max Wind Speed Distribution')\n",
    "sns.distplot(df['Minimum Pressure'],ax=ax2)\n",
    "ax2.set_title('Minimum Pressure Distribution');"
   ]
  },
  {
   "cell_type": "code",
   "execution_count": 19,
   "metadata": {},
   "outputs": [],
   "source": [
    "month = ['Jan' , 'Feb' , 'Mar' , 'Apr' , 'May' , 'June' , 'July' , 'Aug' , 'Sep','Oct' , 'Nov' , 'Dec']"
   ]
  },
  {
   "cell_type": "code",
   "execution_count": 20,
   "metadata": {},
   "outputs": [],
   "source": [
    "df_plot = df.groupby(['Status', 'Month']).size().reset_index().pivot(columns='Status', index='Month', values=0)"
   ]
  },
  {
   "cell_type": "code",
   "execution_count": 21,
   "metadata": {},
   "outputs": [],
   "source": [
    "df_plot=df_plot.fillna(0)"
   ]
  },
  {
   "cell_type": "code",
   "execution_count": 22,
   "metadata": {
    "scrolled": true
   },
   "outputs": [
    {
     "data": {
      "image/png": "[encoded data removed]",
      "text/plain": [
       "<Figure size 576x576 with 1 Axes>"
      ]
     },
     "metadata": {},
     "output_type": "display_data"
    }
   ],
   "source": [
    "sns.set_theme(style=\"darkgrid\")\n",
    "\n",
    "ax=df_plot.plot(kind='bar', stacked=True,figsize = (8,8))\n",
    "ax.set_xticklabels(month, rotation=90)\n",
    "ax.set_title(\"Number of Cyclones by Month\");"
   ]
  },
  {
   "cell_type": "code",
   "execution_count": 23,
   "metadata": {},
   "outputs": [
    {
     "data": {
      "text/plain": [
       "Text(0.5, 1.0, 'Number of Cyclones by Month')"
      ]
     },
     "execution_count": 23,
     "metadata": {},
     "output_type": "execute_result"
    },
    {
     "data": {
      "image/png": "[encoded data removed]",
      "text/plain": [
       "<Figure size 576x576 with 1 Axes>"
      ]
     },
     "metadata": {},
     "output_type": "display_data"
    }
   ],
   "source": [
    "freq = df.groupby('Month')['Status'].count()\n",
    "freq=pd.DataFrame(freq)#,columns=[['Month','Number']])\n",
    "\n",
    "font = {'family' : 'monospace',\n",
    "        'weight' : 'bold',\n",
    "        'size'   : 20}\n",
    "plt.rc('font', **font)\n",
    "plt.figure(figsize = (8,8))\n",
    "sns.set_theme(style=\"darkgrid\")\n",
    "ax = sns.barplot(x=freq.index, y=freq.Status , color='Yellow' )\n",
    "plt.xticks([0,1,2,3,4,5,6,7,8,9,10,11] , month , rotation = 45)\n",
    "plt.ylabel('Cyclone Counts')\n",
    "plt.title('Number of Cyclones by Month')"
   ]
  },
  {
   "cell_type": "code",
   "execution_count": 24,
   "metadata": {
    "scrolled": true
   },
   "outputs": [
    {
     "data": {
      "image/png": "[encoded data removed]",
      "text/plain": [
       "<Figure size 1080x576 with 1 Axes>"
      ]
     },
     "metadata": {},
     "output_type": "display_data"
    }
   ],
   "source": [
    "freq = df.groupby('Year').count().sort_values(by = 'Month' , ascending = False)\n",
    "plt.figure(figsize= (15,8))\n",
    "sns.lineplot(x = freq.index , y = 'Month' , data = freq , label = 'Frequency')\n",
    "plt.ylabel('Cyclone Counts')\n",
    "plt.title('Number of Cyclones across the Years')\n",
    "plt.show()"
   ]
  },
  {
   "cell_type": "markdown",
   "metadata": {},
   "source": [
    "<h2>KNN</h2>"
   ]
  },
  {
   "cell_type": "code",
   "execution_count": 25,
   "metadata": {},
   "outputs": [],
   "source": [
    "from sklearn.preprocessing import LabelEncoder\n",
    "\n",
    "#y = df['Status']\n",
    "\n",
    "#le = LabelEncoder()\n",
    "\n",
    "#le.fit(y)\n",
    "#df.loc[:,'Status'] = le.transform(y)\n",
    "#print(le.classes_)"
   ]
  },
  {
   "cell_type": "code",
   "execution_count": 26,
   "metadata": {},
   "outputs": [],
   "source": [
    "from sklearn.neighbors import KNeighborsClassifier\n",
    "from sklearn.preprocessing import StandardScaler\n",
    "from sklearn.model_selection import train_test_split, GridSearchCV, cross_val_score\n",
    "from sklearn.feature_extraction import text\n",
    "from sklearn import metrics"
   ]
  },
  {
   "cell_type": "code",
   "execution_count": 27,
   "metadata": {},
   "outputs": [
    {
     "data": {
      "text/plain": [
       "Name                        object\n",
       "Date                datetime64[ns]\n",
       "Time                        object\n",
       "Status                      object\n",
       "Latitude                    object\n",
       "Longitude                   object\n",
       "Maximum Wind                 int64\n",
       "Minimum Pressure             int64\n",
       "Low Wind NE                  int64\n",
       "Low Wind SE                  int64\n",
       "Low Wind SW                  int64\n",
       "Low Wind NW                  int64\n",
       "Moderate Wind NE             int64\n",
       "Moderate Wind SE             int64\n",
       "Moderate Wind SW             int64\n",
       "Moderate Wind NW             int64\n",
       "High Wind NE                 int64\n",
       "High Wind SE                 int64\n",
       "High Wind SW                 int64\n",
       "High Wind NW                 int64\n",
       "Month                        int64\n",
       "Year                         int64\n",
       "dtype: object"
      ]
     },
     "execution_count": 27,
     "metadata": {},
     "output_type": "execute_result"
    }
   ],
   "source": [
    "df.dtypes"
   ]
  },
  {
   "cell_type": "code",
   "execution_count": 28,
   "metadata": {},
   "outputs": [],
   "source": [
    "X =  df.drop(columns = ['Name' ,'Date','Time','Status'])\n",
    "y = df['Status']"
   ]
  },
  {
   "cell_type": "code",
   "execution_count": 29,
   "metadata": {},
   "outputs": [],
   "source": [
    "# stratify y just in case \n",
    "# test_size : default = 0.25\n",
    "X_train, X_test, y_train, y_test = train_test_split(X, y, stratify=y, random_state=42)"
   ]
  },
  {
   "cell_type": "code",
   "execution_count": 30,
   "metadata": {},
   "outputs": [
    {
     "data": {
      "text/plain": [
       " TS    0.347277\n",
       " HU    0.253954\n",
       " TD    0.242753\n",
       " EX    0.103956\n",
       " LO    0.025211\n",
       " SS    0.013977\n",
       " SD    0.007356\n",
       " WV    0.002909\n",
       " DB    0.002608\n",
       "Name: Status, dtype: float64"
      ]
     },
     "execution_count": 30,
     "metadata": {},
     "output_type": "execute_result"
    }
   ],
   "source": [
    "y_train.value_counts(normalize=True)"
   ]
  },
  {
   "cell_type": "code",
   "execution_count": 31,
   "metadata": {},
   "outputs": [
    {
     "data": {
      "text/plain": [
       " TS    0.347242\n",
       " HU    0.253962\n",
       " TD    0.242828\n",
       " EX    0.104012\n",
       " LO    0.025176\n",
       " SS    0.013942\n",
       " SD    0.007322\n",
       " WV    0.002909\n",
       " DB    0.002608\n",
       "Name: Status, dtype: float64"
      ]
     },
     "execution_count": 31,
     "metadata": {},
     "output_type": "execute_result"
    }
   ],
   "source": [
    "y_test.value_counts(normalize=True)"
   ]
  },
  {
   "cell_type": "code",
   "execution_count": 32,
   "metadata": {},
   "outputs": [],
   "source": [
    "ss=StandardScaler()\n",
    "X_train_sc=ss.fit_transform(X_train)\n",
    "X_test_sc=ss.transform(X_test)\n",
    "\n",
    "knn=KNeighborsClassifier()"
   ]
  },
  {
   "cell_type": "code",
   "execution_count": 33,
   "metadata": {},
   "outputs": [],
   "source": [
    "knn=knn.fit(X_train_sc,y_train)"
   ]
  },
  {
   "cell_type": "code",
   "execution_count": 34,
   "metadata": {},
   "outputs": [],
   "source": [
    "y_predictions=knn.predict(X_test_sc)"
   ]
  },
  {
   "cell_type": "code",
   "execution_count": 35,
   "metadata": {
    "scrolled": true
   },
   "outputs": [
    {
     "name": "stdout",
     "output_type": "stream",
     "text": [
      "Cross Validation Score: 0.90153\n",
      "train score: 0.94570\n",
      "test score:0.90160\n",
      "Accuracy:0.90160\n"
     ]
    }
   ],
   "source": [
    "#what to expect from the model \n",
    "print(\"Cross Validation Score: {:.5f}\".format(cross_val_score(knn,X_train_sc,y_train,cv=10).mean()))\n",
    "\n",
    "print('train score: {:.5f}'.format(knn.score(X_train_sc,y_train)))\n",
    "print('test score:{:.5f}' .format(knn.score(X_test_sc,y_test)))\n",
    "\n",
    "\n",
    "# Model Accuracy, how often is the classifier correct?\n",
    "print('Accuracy:{:.5f}'.format(metrics.accuracy_score(y_true = y_test, y_pred = y_predictions)))"
   ]
  },
  {
   "cell_type": "code",
   "execution_count": 36,
   "metadata": {},
   "outputs": [],
   "source": [
    "preds = knn.predict(X_test)\n",
    "\n",
    "# Setting knn_misclass_df as a dataframe using data as y_test\n",
    "knn_mispred_df = pd.DataFrame(data = y_test)\n",
    "\n",
    "knn_mispred_df = knn_mispred_df.rename({'Status' : 'actual_Status'}, axis = 1)\n",
    "\n",
    "# Setting predicted_subreddit as preds\n",
    "knn_mispred_df['predicted_Status'] = preds\n",
    "\n",
    "knn_mispred_df['mispred'] = (knn_mispred_df['predicted_Status']!=knn_mispred_df['actual_Status'] )\n"
   ]
  },
  {
   "cell_type": "code",
   "execution_count": 38,
   "metadata": {
    "scrolled": true
   },
   "outputs": [
    {
     "data": {
      "text/html": [
       "<div>\n",
       "<style scoped>\n",
       "    .dataframe tbody tr th:only-of-type {\n",
       "        vertical-align: middle;\n",
       "    }\n",
       "\n",
       "    .dataframe tbody tr th {\n",
       "        vertical-align: top;\n",
       "    }\n",
       "\n",
       "    .dataframe thead th {\n",
       "        text-align: right;\n",
       "    }\n",
       "</style>\n",
       "<table border=\"1\" class=\"dataframe\">\n",
       "  <thead>\n",
       "    <tr style=\"text-align: right;\">\n",
       "      <th></th>\n",
       "      <th>Name</th>\n",
       "      <th>Date</th>\n",
       "      <th>Time</th>\n",
       "      <th>Status</th>\n",
       "      <th>Latitude</th>\n",
       "      <th>Longitude</th>\n",
       "      <th>Maximum Wind</th>\n",
       "      <th>Minimum Pressure</th>\n",
       "      <th>Low Wind NE</th>\n",
       "      <th>Low Wind SE</th>\n",
       "      <th>...</th>\n",
       "      <th>Moderate Wind NE</th>\n",
       "      <th>Moderate Wind SE</th>\n",
       "      <th>Moderate Wind SW</th>\n",
       "      <th>Moderate Wind NW</th>\n",
       "      <th>High Wind NE</th>\n",
       "      <th>High Wind SE</th>\n",
       "      <th>High Wind SW</th>\n",
       "      <th>High Wind NW</th>\n",
       "      <th>Month</th>\n",
       "      <th>Year</th>\n",
       "    </tr>\n",
       "  </thead>\n",
       "  <tbody>\n",
       "    <tr>\n",
       "      <th>44828</th>\n",
       "      <td>FLORENCE</td>\n",
       "      <td>2006-09-13</td>\n",
       "      <td>18:00:00</td>\n",
       "      <td>EX</td>\n",
       "      <td>46.4</td>\n",
       "      <td>54.0</td>\n",
       "      <td>70</td>\n",
       "      <td>963</td>\n",
       "      <td>420</td>\n",
       "      <td>360</td>\n",
       "      <td>...</td>\n",
       "      <td>60</td>\n",
       "      <td>150</td>\n",
       "      <td>125</td>\n",
       "      <td>120</td>\n",
       "      <td>0</td>\n",
       "      <td>75</td>\n",
       "      <td>60</td>\n",
       "      <td>60</td>\n",
       "      <td>9</td>\n",
       "      <td>2006</td>\n",
       "    </tr>\n",
       "    <tr>\n",
       "      <th>22932</th>\n",
       "      <td>BAKER</td>\n",
       "      <td>1952-09-03</td>\n",
       "      <td>12:00:00</td>\n",
       "      <td>HU</td>\n",
       "      <td>25.9</td>\n",
       "      <td>67.1</td>\n",
       "      <td>65</td>\n",
       "      <td>993</td>\n",
       "      <td>82</td>\n",
       "      <td>77</td>\n",
       "      <td>...</td>\n",
       "      <td>25</td>\n",
       "      <td>23</td>\n",
       "      <td>15</td>\n",
       "      <td>18</td>\n",
       "      <td>8</td>\n",
       "      <td>7</td>\n",
       "      <td>5</td>\n",
       "      <td>6</td>\n",
       "      <td>9</td>\n",
       "      <td>1952</td>\n",
       "    </tr>\n",
       "    <tr>\n",
       "      <th>47073</th>\n",
       "      <td>IRENE</td>\n",
       "      <td>2011-08-25</td>\n",
       "      <td>06:00:00</td>\n",
       "      <td>HU</td>\n",
       "      <td>24.1</td>\n",
       "      <td>75.9</td>\n",
       "      <td>95</td>\n",
       "      <td>950</td>\n",
       "      <td>220</td>\n",
       "      <td>180</td>\n",
       "      <td>...</td>\n",
       "      <td>100</td>\n",
       "      <td>80</td>\n",
       "      <td>50</td>\n",
       "      <td>70</td>\n",
       "      <td>60</td>\n",
       "      <td>60</td>\n",
       "      <td>25</td>\n",
       "      <td>50</td>\n",
       "      <td>8</td>\n",
       "      <td>2011</td>\n",
       "    </tr>\n",
       "    <tr>\n",
       "      <th>38215</th>\n",
       "      <td>BRET</td>\n",
       "      <td>1993-08-06</td>\n",
       "      <td>00:00:00</td>\n",
       "      <td>TS</td>\n",
       "      <td>10.2</td>\n",
       "      <td>51.0</td>\n",
       "      <td>45</td>\n",
       "      <td>1006</td>\n",
       "      <td>82</td>\n",
       "      <td>77</td>\n",
       "      <td>...</td>\n",
       "      <td>25</td>\n",
       "      <td>23</td>\n",
       "      <td>15</td>\n",
       "      <td>18</td>\n",
       "      <td>8</td>\n",
       "      <td>7</td>\n",
       "      <td>5</td>\n",
       "      <td>6</td>\n",
       "      <td>8</td>\n",
       "      <td>1993</td>\n",
       "    </tr>\n",
       "    <tr>\n",
       "      <th>26725</th>\n",
       "      <td>UNNAMED</td>\n",
       "      <td>1964-06-04</td>\n",
       "      <td>12:00:00</td>\n",
       "      <td>TD</td>\n",
       "      <td>19.8</td>\n",
       "      <td>86.0</td>\n",
       "      <td>25</td>\n",
       "      <td>992</td>\n",
       "      <td>82</td>\n",
       "      <td>77</td>\n",
       "      <td>...</td>\n",
       "      <td>25</td>\n",
       "      <td>23</td>\n",
       "      <td>15</td>\n",
       "      <td>18</td>\n",
       "      <td>8</td>\n",
       "      <td>7</td>\n",
       "      <td>5</td>\n",
       "      <td>6</td>\n",
       "      <td>6</td>\n",
       "      <td>1964</td>\n",
       "    </tr>\n",
       "    <tr>\n",
       "      <th>...</th>\n",
       "      <td>...</td>\n",
       "      <td>...</td>\n",
       "      <td>...</td>\n",
       "      <td>...</td>\n",
       "      <td>...</td>\n",
       "      <td>...</td>\n",
       "      <td>...</td>\n",
       "      <td>...</td>\n",
       "      <td>...</td>\n",
       "      <td>...</td>\n",
       "      <td>...</td>\n",
       "      <td>...</td>\n",
       "      <td>...</td>\n",
       "      <td>...</td>\n",
       "      <td>...</td>\n",
       "      <td>...</td>\n",
       "      <td>...</td>\n",
       "      <td>...</td>\n",
       "      <td>...</td>\n",
       "      <td>...</td>\n",
       "      <td>...</td>\n",
       "    </tr>\n",
       "    <tr>\n",
       "      <th>17954</th>\n",
       "      <td>UNNAMED</td>\n",
       "      <td>1935-09-05</td>\n",
       "      <td>18:00:00</td>\n",
       "      <td>TS</td>\n",
       "      <td>33.2</td>\n",
       "      <td>81.5</td>\n",
       "      <td>50</td>\n",
       "      <td>992</td>\n",
       "      <td>82</td>\n",
       "      <td>77</td>\n",
       "      <td>...</td>\n",
       "      <td>25</td>\n",
       "      <td>23</td>\n",
       "      <td>15</td>\n",
       "      <td>18</td>\n",
       "      <td>8</td>\n",
       "      <td>7</td>\n",
       "      <td>5</td>\n",
       "      <td>6</td>\n",
       "      <td>9</td>\n",
       "      <td>1935</td>\n",
       "    </tr>\n",
       "    <tr>\n",
       "      <th>44293</th>\n",
       "      <td>PHILIPPE</td>\n",
       "      <td>2005-09-22</td>\n",
       "      <td>18:00:00</td>\n",
       "      <td>TS</td>\n",
       "      <td>26.7</td>\n",
       "      <td>57.6</td>\n",
       "      <td>35</td>\n",
       "      <td>1003</td>\n",
       "      <td>75</td>\n",
       "      <td>0</td>\n",
       "      <td>...</td>\n",
       "      <td>0</td>\n",
       "      <td>0</td>\n",
       "      <td>0</td>\n",
       "      <td>0</td>\n",
       "      <td>0</td>\n",
       "      <td>0</td>\n",
       "      <td>0</td>\n",
       "      <td>0</td>\n",
       "      <td>9</td>\n",
       "      <td>2005</td>\n",
       "    </tr>\n",
       "    <tr>\n",
       "      <th>15439</th>\n",
       "      <td>UNNAMED</td>\n",
       "      <td>1927-09-25</td>\n",
       "      <td>00:00:00</td>\n",
       "      <td>TS</td>\n",
       "      <td>14.5</td>\n",
       "      <td>41.3</td>\n",
       "      <td>40</td>\n",
       "      <td>992</td>\n",
       "      <td>82</td>\n",
       "      <td>77</td>\n",
       "      <td>...</td>\n",
       "      <td>25</td>\n",
       "      <td>23</td>\n",
       "      <td>15</td>\n",
       "      <td>18</td>\n",
       "      <td>8</td>\n",
       "      <td>7</td>\n",
       "      <td>5</td>\n",
       "      <td>6</td>\n",
       "      <td>9</td>\n",
       "      <td>1927</td>\n",
       "    </tr>\n",
       "    <tr>\n",
       "      <th>35077</th>\n",
       "      <td>HORTENSE</td>\n",
       "      <td>1984-09-23</td>\n",
       "      <td>18:00:00</td>\n",
       "      <td>SS</td>\n",
       "      <td>29.2</td>\n",
       "      <td>59.1</td>\n",
       "      <td>35</td>\n",
       "      <td>1002</td>\n",
       "      <td>82</td>\n",
       "      <td>77</td>\n",
       "      <td>...</td>\n",
       "      <td>25</td>\n",
       "      <td>23</td>\n",
       "      <td>15</td>\n",
       "      <td>18</td>\n",
       "      <td>8</td>\n",
       "      <td>7</td>\n",
       "      <td>5</td>\n",
       "      <td>6</td>\n",
       "      <td>9</td>\n",
       "      <td>1984</td>\n",
       "    </tr>\n",
       "    <tr>\n",
       "      <th>12471</th>\n",
       "      <td>UNNAMED</td>\n",
       "      <td>1912-11-19</td>\n",
       "      <td>06:00:00</td>\n",
       "      <td>HU</td>\n",
       "      <td>18.7</td>\n",
       "      <td>76.5</td>\n",
       "      <td>75</td>\n",
       "      <td>992</td>\n",
       "      <td>82</td>\n",
       "      <td>77</td>\n",
       "      <td>...</td>\n",
       "      <td>25</td>\n",
       "      <td>23</td>\n",
       "      <td>15</td>\n",
       "      <td>18</td>\n",
       "      <td>8</td>\n",
       "      <td>7</td>\n",
       "      <td>5</td>\n",
       "      <td>6</td>\n",
       "      <td>11</td>\n",
       "      <td>1912</td>\n",
       "    </tr>\n",
       "  </tbody>\n",
       "</table>\n",
       "<p>9970 rows × 22 columns</p>\n",
       "</div>"
      ],
      "text/plain": [
       "                      Name       Date      Time Status Latitude Longitude  \\\n",
       "44828             FLORENCE 2006-09-13  18:00:00     EX     46.4      54.0   \n",
       "22932                BAKER 1952-09-03  12:00:00     HU     25.9      67.1   \n",
       "47073                IRENE 2011-08-25  06:00:00     HU     24.1      75.9   \n",
       "38215                 BRET 1993-08-06  00:00:00     TS     10.2      51.0   \n",
       "26725              UNNAMED 1964-06-04  12:00:00     TD     19.8      86.0   \n",
       "...                    ...        ...       ...    ...      ...       ...   \n",
       "17954              UNNAMED 1935-09-05  18:00:00     TS     33.2      81.5   \n",
       "44293             PHILIPPE 2005-09-22  18:00:00     TS     26.7      57.6   \n",
       "15439              UNNAMED 1927-09-25  00:00:00     TS     14.5      41.3   \n",
       "35077             HORTENSE 1984-09-23  18:00:00     SS     29.2      59.1   \n",
       "12471              UNNAMED 1912-11-19  06:00:00     HU     18.7      76.5   \n",
       "\n",
       "       Maximum Wind  Minimum Pressure  Low Wind NE  Low Wind SE  ...  \\\n",
       "44828            70               963          420          360  ...   \n",
       "22932            65               993           82           77  ...   \n",
       "47073            95               950          220          180  ...   \n",
       "38215            45              1006           82           77  ...   \n",
       "26725            25               992           82           77  ...   \n",
       "...             ...               ...          ...          ...  ...   \n",
       "17954            50               992           82           77  ...   \n",
       "44293            35              1003           75            0  ...   \n",
       "15439            40               992           82           77  ...   \n",
       "35077            35              1002           82           77  ...   \n",
       "12471            75               992           82           77  ...   \n",
       "\n",
       "       Moderate Wind NE  Moderate Wind SE  Moderate Wind SW  Moderate Wind NW  \\\n",
       "44828                60               150               125               120   \n",
       "22932                25                23                15                18   \n",
       "47073               100                80                50                70   \n",
       "38215                25                23                15                18   \n",
       "26725                25                23                15                18   \n",
       "...                 ...               ...               ...               ...   \n",
       "17954                25                23                15                18   \n",
       "44293                 0                 0                 0                 0   \n",
       "15439                25                23                15                18   \n",
       "35077                25                23                15                18   \n",
       "12471                25                23                15                18   \n",
       "\n",
       "       High Wind NE  High Wind SE  High Wind SW  High Wind NW  Month  Year  \n",
       "44828             0            75            60            60      9  2006  \n",
       "22932             8             7             5             6      9  1952  \n",
       "47073            60            60            25            50      8  2011  \n",
       "38215             8             7             5             6      8  1993  \n",
       "26725             8             7             5             6      6  1964  \n",
       "...             ...           ...           ...           ...    ...   ...  \n",
       "17954             8             7             5             6      9  1935  \n",
       "44293             0             0             0             0      9  2005  \n",
       "15439             8             7             5             6      9  1927  \n",
       "35077             8             7             5             6      9  1984  \n",
       "12471             8             7             5             6     11  1912  \n",
       "\n",
       "[9970 rows x 22 columns]"
      ]
     },
     "execution_count": 38,
     "metadata": {},
     "output_type": "execute_result"
    }
   ],
   "source": [
    "df.loc[knn_mispred_df.index]"
   ]
  },
  {
   "cell_type": "markdown",
   "metadata": {},
   "source": [
    "<h2>Decision Tree </h2>"
   ]
  },
  {
   "cell_type": "code",
   "execution_count": 246,
   "metadata": {},
   "outputs": [],
   "source": [
    "from sklearn.metrics import accuracy_score\n",
    "from sklearn.metrics import recall_score \n",
    "from sklearn.metrics import precision_score \n",
    "from sklearn.tree import DecisionTreeClassifier"
   ]
  },
  {
   "cell_type": "code",
   "execution_count": 247,
   "metadata": {},
   "outputs": [],
   "source": [
    "X =  df.drop(columns = ['Name' , 'Date','Time','Status'])\n",
    "y = df['Status']"
   ]
  },
  {
   "cell_type": "code",
   "execution_count": 248,
   "metadata": {},
   "outputs": [],
   "source": [
    "X_train, X_test, y_train, y_test = train_test_split(X, y, stratify=y, random_state=42)"
   ]
  },
  {
   "cell_type": "code",
   "execution_count": 249,
   "metadata": {},
   "outputs": [],
   "source": [
    "ss=StandardScaler()\n",
    "X_train_sc=ss.fit_transform(X_train)\n",
    "X_test_sc=ss.transform(X_test)"
   ]
  },
  {
   "cell_type": "code",
   "execution_count": 250,
   "metadata": {},
   "outputs": [],
   "source": [
    "#Create a Classifier and fit the model\n",
    "#set max_depth to avoid a fulling growing crazy tree\n",
    "Status_classifier = DecisionTreeClassifier(max_depth = 2, random_state=42).fit(X_train_sc, y_train)"
   ]
  },
  {
   "cell_type": "code",
   "execution_count": 251,
   "metadata": {},
   "outputs": [],
   "source": [
    "#Train the model using the training sets y_pred=rf.predict(X_test)\n",
    "y_predictions = Status_classifier.predict(X_test_sc)"
   ]
  },
  {
   "cell_type": "code",
   "execution_count": 252,
   "metadata": {
    "scrolled": true
   },
   "outputs": [
    {
     "name": "stdout",
     "output_type": "stream",
     "text": [
      "Cross Validation Score: 0.8451534872175053\n",
      "train score: 0.8452536195539506\n",
      "test score: 0.8434302908726179\n",
      "Accuracy: 0.8434302908726179\n"
     ]
    }
   ],
   "source": [
    "#What to expect from the model\n",
    "print(\"Cross Validation Score:\", cross_val_score(Status_classifier,X_train_sc,y_train,cv=10).mean())\n",
    "\n",
    "print('train score:' ,Status_classifier.score(X_train_sc,y_train))\n",
    "print('test score:' ,Status_classifier.score(X_test_sc,y_test))\n",
    "\n",
    "# Model Accuracy, how often is the classifier correct?\n",
    "print('Accuracy:' ,metrics.accuracy_score(y_true = y_test, y_pred = y_predictions))\n",
    "\n",
    "#increasing number of nodes could improve performance "
   ]
  },
  {
   "cell_type": "markdown",
   "metadata": {},
   "source": [
    "<h3>Optimizing Decision Tree Performance</h3>"
   ]
  },
  {
   "cell_type": "code",
   "execution_count": 253,
   "metadata": {},
   "outputs": [
    {
     "name": "stdout",
     "output_type": "stream",
     "text": [
      "Cross Validation Score: 0.843882729571099\n",
      "train score: 0.8438827030461096\n",
      "test score: 0.8439317953861585\n",
      "Accuracy: 0.8439317953861585\n"
     ]
    }
   ],
   "source": [
    "X =  df.drop(columns = ['Name' , 'Date','Time','Status'])\n",
    "y = df['Status']\n",
    "\n",
    "X_train, X_test, y_train, y_test = train_test_split(X, y, stratify=y, random_state=42)\n",
    "\n",
    "ss=StandardScaler()\n",
    "X_train_sc=ss.fit_transform(X_train)\n",
    "X_test_sc=ss.transform(X_test)\n",
    "\n",
    "# Create Decision Tree classifer object and fit the model\n",
    "Status_classifier_2 = DecisionTreeClassifier(criterion=\"entropy\", max_depth=2,random_state=42).fit(X_train_sc,y_train)\n",
    "\n",
    "#Predict the response for test dataset\n",
    "y_predictions = Status_classifier_2.predict(X_test_sc)\n",
    "\n",
    "print(\"Cross Validation Score:\", cross_val_score(Status_classifier_2,X_train_sc,y_train,cv=10).mean())\n",
    "\n",
    "print('train score:' ,Status_classifier_2.score(X_train_sc,y_train))\n",
    "print('test score:' ,Status_classifier_2.score(X_test_sc,y_test))\n",
    "\n",
    "# Model Accuracy, how often is the classifier correct?\n",
    "print('Accuracy:' ,metrics.accuracy_score(y_true = y_test, y_pred = y_predictions))\n",
    "\n",
    "#Slightly improved"
   ]
  },
  {
   "cell_type": "markdown",
   "metadata": {},
   "source": [
    "<h2>Random Forest Classifier with Feature Selection</h2>"
   ]
  },
  {
   "cell_type": "code",
   "execution_count": 52,
   "metadata": {},
   "outputs": [],
   "source": [
    "from sklearn.ensemble import RandomForestClassifier"
   ]
  },
  {
   "cell_type": "code",
   "execution_count": 53,
   "metadata": {},
   "outputs": [
    {
     "name": "stdout",
     "output_type": "stream",
     "text": [
      "Cross Validation Score: 0.9492762680460556\n",
      "train score: 0.9980940916842211\n",
      "test score: 0.9477432296890672\n",
      "Accuracy: 0.9477432296890672\n"
     ]
    }
   ],
   "source": [
    "\n",
    "X =  df.drop(columns = ['Name' , 'Date','Time','Status'])\n",
    "y = df['Status']\n",
    "\n",
    "X_train, X_test, y_train, y_test = train_test_split(X, y, stratify=y, random_state=42)\n",
    "\n",
    "ss=StandardScaler()\n",
    "X_train_sc=ss.fit_transform(X_train)\n",
    "X_test_sc=ss.transform(X_test)\n",
    "\n",
    "#Create a Classifier\n",
    "rf=RandomForestClassifier(n_estimators=10, random_state=42) #default 100\n",
    "\n",
    "#Train the model using the training sets y_pred=rf.predict(X_test)\n",
    "rf=rf.fit(X_train_sc,y_train)\n",
    "\n",
    "y_predictions=rf.predict(X_test_sc)\n",
    "\n",
    "#what to expect from model\n",
    "print(\"Cross Validation Score:\", cross_val_score(rf,X_train_sc,y_train,cv=10).mean())\n",
    "\n",
    "print('train score:' ,rf.score(X_train_sc,y_train))\n",
    "print('test score:' ,rf.score(X_test_sc,y_test))\n",
    "\n",
    "# Model Accuracy, how often is the classifier correct?\n",
    "print('Accuracy:' ,metrics.accuracy_score(y_true = y_test, y_pred = y_predictions))"
   ]
  },
  {
   "cell_type": "code",
   "execution_count": 54,
   "metadata": {},
   "outputs": [
    {
     "data": {
      "image/png": "[encoded data removed]",
      "text/plain": [
       "<Figure size 432x288 with 1 Axes>"
      ]
     },
     "metadata": {},
     "output_type": "display_data"
    }
   ],
   "source": [
    "features = pd.Series(rf.feature_importances_ , index= X_train.columns).sort_values(ascending=False)\n",
    "\n",
    "#visualize Feature Importance \n",
    "sns.barplot(x=features, y=features.index)\n",
    "plt.xlabel('Feature Importance Score')\n",
    "plt.ylabel('Features')\n",
    "plt.title(\"Visualizing Important Features\")\n",
    "plt.show()"
   ]
  },
  {
   "cell_type": "markdown",
   "metadata": {},
   "source": [
    "<h2>Retrain KNN with top 5 features </h2>"
   ]
  },
  {
   "cell_type": "code",
   "execution_count": 257,
   "metadata": {},
   "outputs": [
    {
     "name": "stdout",
     "output_type": "stream",
     "text": [
      "Cross Validation Score: 0.9057078034549579\n",
      "train score: 0.9457317684822951\n",
      "test score: 0.9071213640922768\n",
      "Accuracy: 0.9071213640922768\n"
     ]
    }
   ],
   "source": [
    "X =  df[features.index[:5]]\n",
    "y = df['Status']\n",
    "\n",
    "X_train, X_test, y_train, y_test = train_test_split(X, y, stratify=y, random_state=42)\n",
    "\n",
    "ss=StandardScaler()\n",
    "X_train_sc=ss.fit_transform(X_train)\n",
    "X_test_sc=ss.transform(X_test)\n",
    "\n",
    "knn=KNeighborsClassifier()\n",
    "\n",
    "knn=knn.fit(X_train_sc,y_train)\n",
    "\n",
    "y_predictions=knn.predict(X_test_sc)\n",
    "\n",
    "#what to expect from the model\n",
    "print(\"Cross Validation Score:\", cross_val_score(knn,X_train_sc,y_train,cv=10).mean())\n",
    "\n",
    "print('train score:' ,knn.score(X_train_sc,y_train))\n",
    "print('test score:' ,knn.score(X_test_sc,y_test))\n",
    "\n",
    "# Model Accuracy, how often is the classifier correct?\n",
    "print('Accuracy:' ,metrics.accuracy_score(y_true = y_test, y_pred = y_predictions))\n"
   ]
  },
  {
   "cell_type": "markdown",
   "metadata": {},
   "source": [
    "<span style=\"color:red\"> KNN with 5 features behave better than the original KNN with all the features:\n",
    "\n",
    "<span style=\"color:blue\">KNN needs all points to be close along every axis in the data space. And each new axis added, by adding a new dimension, makes it harder and harder for two specific points to be close to each other in every axis."
   ]
  },
  {
   "cell_type": "markdown",
   "metadata": {},
   "source": [
    "<h2> Retrain Decision Tree with top 5 features</h2>"
   ]
  },
  {
   "cell_type": "code",
   "execution_count": 258,
   "metadata": {},
   "outputs": [
    {
     "name": "stdout",
     "output_type": "stream",
     "text": [
      "Cross Validation Score: 0.8451534872175053\n",
      "train score: 0.8452536195539506\n",
      "test score: 0.8434302908726179\n",
      "Accuracy: 0.8434302908726179\n"
     ]
    }
   ],
   "source": [
    "X =  df[features.index[:5]]\n",
    "y = df['Status']\n",
    "\n",
    "X_train, X_test, y_train, y_test = train_test_split(X, y, stratify=y, random_state=42)\n",
    "\n",
    "ss=StandardScaler()\n",
    "X_train_sc=ss.fit_transform(X_train)\n",
    "X_test_sc=ss.transform(X_test)\n",
    "\n",
    "Status_classifier = DecisionTreeClassifier(max_depth=2, random_state=42)\n",
    "Status_classifier=Status_classifier.fit(X_train_sc, y_train)\n",
    "\n",
    "y_predictions = Status_classifier.predict(X_test_sc)\n",
    "\n",
    "print(\"Cross Validation Score:\", cross_val_score(Status_classifier,X_train_sc,y_train,cv=10).mean())\n",
    "\n",
    "print('train score:' ,Status_classifier.score(X_train_sc,y_train))\n",
    "print('test score:' ,Status_classifier.score(X_test_sc,y_test))\n",
    "\n",
    "print('Accuracy:' ,metrics.accuracy_score(y_true = y_test, y_pred = y_predictions))\n",
    "\n",
    "#Accuracy score is lower than the original Decision Tree model "
   ]
  },
  {
   "cell_type": "markdown",
   "metadata": {},
   "source": [
    "<h2> BONUS Choosing a K value for KNN</h2>"
   ]
  },
  {
   "cell_type": "code",
   "execution_count": 59,
   "metadata": {},
   "outputs": [],
   "source": [
    "X =  df.drop(columns = ['Name' , 'Date','Time','Status'])\n",
    "y = df['Status']\n",
    "\n",
    "X_train, X_test, y_train, y_test = train_test_split(X, y, stratify=y, random_state=42)\n",
    "\n",
    "ss=StandardScaler()\n",
    "X_train_sc=ss.fit_transform(X_train)\n",
    "X_test_sc=ss.transform(X_test)\n",
    "\n",
    "#knn=KNeighborsClassifier()\n",
    "#knn=knn.fit(X_train_sc,y_train)\n",
    "#y_predictions=knn.predict(X_test_sc)"
   ]
  },
  {
   "cell_type": "code",
   "execution_count": 60,
   "metadata": {},
   "outputs": [],
   "source": [
    "error_rate = []\n",
    "# Might take some time\n",
    "for i in range(1,40):\n",
    "    \n",
    "    knn = KNeighborsClassifier(n_neighbors=i)\n",
    "    knn.fit(X_train_sc,y_train)\n",
    "    pred_i = knn.predict(X_test)\n",
    "    error_rate.append(np.mean(pred_i != y_test))"
   ]
  },
  {
   "cell_type": "code",
   "execution_count": 61,
   "metadata": {},
   "outputs": [
    {
     "data": {
      "text/plain": [
       "Text(0, 0.5, 'Error Rate')"
      ]
     },
     "execution_count": 61,
     "metadata": {},
     "output_type": "execute_result"
    },
    {
     "data": {
      "image/png": "[encoded data removed]",
      "text/plain": [
       "<Figure size 720x432 with 1 Axes>"
      ]
     },
     "metadata": {},
     "output_type": "display_data"
    }
   ],
   "source": [
    "plt.figure(figsize=(10,6))\n",
    "plt.plot(range(1,40),error_rate,color='blue', linestyle='dashed', marker='o',\n",
    "         markerfacecolor='red', markersize=10)\n",
    "plt.title('Error Rate vs. K Value')\n",
    "plt.xlabel('K')\n",
    "plt.ylabel('Error Rate')"
   ]
  },
  {
   "cell_type": "code",
   "execution_count": null,
   "metadata": {},
   "outputs": [],
   "source": []
  }
 ],
 "metadata": {
  "kernelspec": {
   "display_name": "Python 3",
   "language": "python",
   "name": "python3"
  },
  "language_info": {
   "codemirror_mode": {
    "name": "ipython",
    "version": 3
   },
   "file_extension": ".py",
   "mimetype": "text/x-python",
   "name": "python",
   "nbconvert_exporter": "python",
   "pygments_lexer": "ipython3",
   "version": "3.8.5"
  }
 },
 "nbformat": 4,
 "nbformat_minor": 4
}
