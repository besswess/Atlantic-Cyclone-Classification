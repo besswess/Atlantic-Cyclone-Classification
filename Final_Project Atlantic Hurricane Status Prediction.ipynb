{
 "cells": [
  {
   "cell_type": "markdown",
   "metadata": {},
   "source": [
    "<h3>https://www.nhc.noaa.gov/data/#hurdat</h3>\n",
    "\n",
    "The NHC publishes the tropical cyclone historical database in a format known as HURDAT, short for HURricane DATabase. These databases (Atlantic HURDAT2 and NE/NC Pacific HURDAT2) contain six-hourly information on the location, maximum winds, central pressure, and (starting in 2004) size of all known tropical cyclones and subtropical cyclones.\n"
   ]
  },
  {
   "cell_type": "markdown",
   "metadata": {},
   "source": [
    "<h2>Pre-processing</h2>"
   ]
  },
  {
   "cell_type": "code",
   "execution_count": 112,
   "metadata": {},
   "outputs": [],
   "source": [
    "import pandas as pd\n",
    "import numpy as np\n",
    "import matplotlib.pyplot as plt\n",
    "import seaborn as sns\n",
    "import re\n",
    "import datetime as dt"
   ]
  },
  {
   "cell_type": "code",
   "execution_count": 113,
   "metadata": {},
   "outputs": [],
   "source": [
    "df = pd.read_csv('atlantic.csv')"
   ]
  },
  {
   "cell_type": "code",
   "execution_count": 114,
   "metadata": {
    "scrolled": true
   },
   "outputs": [
    {
     "data": {
      "text/plain": [
       "(49105, 22)"
      ]
     },
     "execution_count": 114,
     "metadata": {},
     "output_type": "execute_result"
    }
   ],
   "source": [
    "df.shape"
   ]
  },
  {
   "cell_type": "code",
   "execution_count": 115,
   "metadata": {},
   "outputs": [
    {
     "data": {
      "text/html": [
       "<div>\n",
       "<style scoped>\n",
       "    .dataframe tbody tr th:only-of-type {\n",
       "        vertical-align: middle;\n",
       "    }\n",
       "\n",
       "    .dataframe tbody tr th {\n",
       "        vertical-align: top;\n",
       "    }\n",
       "\n",
       "    .dataframe thead th {\n",
       "        text-align: right;\n",
       "    }\n",
       "</style>\n",
       "<table border=\"1\" class=\"dataframe\">\n",
       "  <thead>\n",
       "    <tr style=\"text-align: right;\">\n",
       "      <th></th>\n",
       "      <th>ID</th>\n",
       "      <th>Name</th>\n",
       "      <th>Date</th>\n",
       "      <th>Time</th>\n",
       "      <th>Event</th>\n",
       "      <th>Status</th>\n",
       "      <th>Latitude</th>\n",
       "      <th>Longitude</th>\n",
       "      <th>Maximum Wind</th>\n",
       "      <th>Minimum Pressure</th>\n",
       "      <th>...</th>\n",
       "      <th>Low Wind SW</th>\n",
       "      <th>Low Wind NW</th>\n",
       "      <th>Moderate Wind NE</th>\n",
       "      <th>Moderate Wind SE</th>\n",
       "      <th>Moderate Wind SW</th>\n",
       "      <th>Moderate Wind NW</th>\n",
       "      <th>High Wind NE</th>\n",
       "      <th>High Wind SE</th>\n",
       "      <th>High Wind SW</th>\n",
       "      <th>High Wind NW</th>\n",
       "    </tr>\n",
       "  </thead>\n",
       "  <tbody>\n",
       "    <tr>\n",
       "      <th>0</th>\n",
       "      <td>AL011851</td>\n",
       "      <td>UNNAMED</td>\n",
       "      <td>18510625</td>\n",
       "      <td>0</td>\n",
       "      <td></td>\n",
       "      <td>HU</td>\n",
       "      <td>28.0N</td>\n",
       "      <td>94.8W</td>\n",
       "      <td>80</td>\n",
       "      <td>-999</td>\n",
       "      <td>...</td>\n",
       "      <td>-999</td>\n",
       "      <td>-999</td>\n",
       "      <td>-999</td>\n",
       "      <td>-999</td>\n",
       "      <td>-999</td>\n",
       "      <td>-999</td>\n",
       "      <td>-999</td>\n",
       "      <td>-999</td>\n",
       "      <td>-999</td>\n",
       "      <td>-999</td>\n",
       "    </tr>\n",
       "    <tr>\n",
       "      <th>1</th>\n",
       "      <td>AL011851</td>\n",
       "      <td>UNNAMED</td>\n",
       "      <td>18510625</td>\n",
       "      <td>600</td>\n",
       "      <td></td>\n",
       "      <td>HU</td>\n",
       "      <td>28.0N</td>\n",
       "      <td>95.4W</td>\n",
       "      <td>80</td>\n",
       "      <td>-999</td>\n",
       "      <td>...</td>\n",
       "      <td>-999</td>\n",
       "      <td>-999</td>\n",
       "      <td>-999</td>\n",
       "      <td>-999</td>\n",
       "      <td>-999</td>\n",
       "      <td>-999</td>\n",
       "      <td>-999</td>\n",
       "      <td>-999</td>\n",
       "      <td>-999</td>\n",
       "      <td>-999</td>\n",
       "    </tr>\n",
       "    <tr>\n",
       "      <th>2</th>\n",
       "      <td>AL011851</td>\n",
       "      <td>UNNAMED</td>\n",
       "      <td>18510625</td>\n",
       "      <td>1200</td>\n",
       "      <td></td>\n",
       "      <td>HU</td>\n",
       "      <td>28.0N</td>\n",
       "      <td>96.0W</td>\n",
       "      <td>80</td>\n",
       "      <td>-999</td>\n",
       "      <td>...</td>\n",
       "      <td>-999</td>\n",
       "      <td>-999</td>\n",
       "      <td>-999</td>\n",
       "      <td>-999</td>\n",
       "      <td>-999</td>\n",
       "      <td>-999</td>\n",
       "      <td>-999</td>\n",
       "      <td>-999</td>\n",
       "      <td>-999</td>\n",
       "      <td>-999</td>\n",
       "    </tr>\n",
       "    <tr>\n",
       "      <th>3</th>\n",
       "      <td>AL011851</td>\n",
       "      <td>UNNAMED</td>\n",
       "      <td>18510625</td>\n",
       "      <td>1800</td>\n",
       "      <td></td>\n",
       "      <td>HU</td>\n",
       "      <td>28.1N</td>\n",
       "      <td>96.5W</td>\n",
       "      <td>80</td>\n",
       "      <td>-999</td>\n",
       "      <td>...</td>\n",
       "      <td>-999</td>\n",
       "      <td>-999</td>\n",
       "      <td>-999</td>\n",
       "      <td>-999</td>\n",
       "      <td>-999</td>\n",
       "      <td>-999</td>\n",
       "      <td>-999</td>\n",
       "      <td>-999</td>\n",
       "      <td>-999</td>\n",
       "      <td>-999</td>\n",
       "    </tr>\n",
       "    <tr>\n",
       "      <th>4</th>\n",
       "      <td>AL011851</td>\n",
       "      <td>UNNAMED</td>\n",
       "      <td>18510625</td>\n",
       "      <td>2100</td>\n",
       "      <td>L</td>\n",
       "      <td>HU</td>\n",
       "      <td>28.2N</td>\n",
       "      <td>96.8W</td>\n",
       "      <td>80</td>\n",
       "      <td>-999</td>\n",
       "      <td>...</td>\n",
       "      <td>-999</td>\n",
       "      <td>-999</td>\n",
       "      <td>-999</td>\n",
       "      <td>-999</td>\n",
       "      <td>-999</td>\n",
       "      <td>-999</td>\n",
       "      <td>-999</td>\n",
       "      <td>-999</td>\n",
       "      <td>-999</td>\n",
       "      <td>-999</td>\n",
       "    </tr>\n",
       "  </tbody>\n",
       "</table>\n",
       "<p>5 rows × 22 columns</p>\n",
       "</div>"
      ],
      "text/plain": [
       "         ID                 Name      Date  Time Event Status Latitude  \\\n",
       "0  AL011851              UNNAMED  18510625     0           HU    28.0N   \n",
       "1  AL011851              UNNAMED  18510625   600           HU    28.0N   \n",
       "2  AL011851              UNNAMED  18510625  1200           HU    28.0N   \n",
       "3  AL011851              UNNAMED  18510625  1800           HU    28.1N   \n",
       "4  AL011851              UNNAMED  18510625  2100     L     HU    28.2N   \n",
       "\n",
       "  Longitude  Maximum Wind  Minimum Pressure  ...  Low Wind SW  Low Wind NW  \\\n",
       "0     94.8W            80              -999  ...         -999         -999   \n",
       "1     95.4W            80              -999  ...         -999         -999   \n",
       "2     96.0W            80              -999  ...         -999         -999   \n",
       "3     96.5W            80              -999  ...         -999         -999   \n",
       "4     96.8W            80              -999  ...         -999         -999   \n",
       "\n",
       "   Moderate Wind NE  Moderate Wind SE  Moderate Wind SW  Moderate Wind NW  \\\n",
       "0              -999              -999              -999              -999   \n",
       "1              -999              -999              -999              -999   \n",
       "2              -999              -999              -999              -999   \n",
       "3              -999              -999              -999              -999   \n",
       "4              -999              -999              -999              -999   \n",
       "\n",
       "   High Wind NE  High Wind SE  High Wind SW  High Wind NW  \n",
       "0          -999          -999          -999          -999  \n",
       "1          -999          -999          -999          -999  \n",
       "2          -999          -999          -999          -999  \n",
       "3          -999          -999          -999          -999  \n",
       "4          -999          -999          -999          -999  \n",
       "\n",
       "[5 rows x 22 columns]"
      ]
     },
     "execution_count": 115,
     "metadata": {},
     "output_type": "execute_result"
    }
   ],
   "source": [
    "df.head()"
   ]
  },
  {
   "cell_type": "code",
   "execution_count": 116,
   "metadata": {},
   "outputs": [],
   "source": [
    "df = df.drop(columns = ['ID' , 'Event'])"
   ]
  },
  {
   "cell_type": "code",
   "execution_count": 117,
   "metadata": {},
   "outputs": [],
   "source": [
    "df['Date'] = pd.to_datetime(df['Date'] , format= '%Y%m%d')"
   ]
  },
  {
   "cell_type": "code",
   "execution_count": 118,
   "metadata": {
    "scrolled": true
   },
   "outputs": [
    {
     "data": {
      "text/html": [
       "<div>\n",
       "<style scoped>\n",
       "    .dataframe tbody tr th:only-of-type {\n",
       "        vertical-align: middle;\n",
       "    }\n",
       "\n",
       "    .dataframe tbody tr th {\n",
       "        vertical-align: top;\n",
       "    }\n",
       "\n",
       "    .dataframe thead th {\n",
       "        text-align: right;\n",
       "    }\n",
       "</style>\n",
       "<table border=\"1\" class=\"dataframe\">\n",
       "  <thead>\n",
       "    <tr style=\"text-align: right;\">\n",
       "      <th></th>\n",
       "      <th>Name</th>\n",
       "      <th>Date</th>\n",
       "      <th>Time</th>\n",
       "      <th>Status</th>\n",
       "      <th>Latitude</th>\n",
       "      <th>Longitude</th>\n",
       "      <th>Maximum Wind</th>\n",
       "      <th>Minimum Pressure</th>\n",
       "      <th>Low Wind NE</th>\n",
       "      <th>Low Wind SE</th>\n",
       "      <th>Low Wind SW</th>\n",
       "      <th>Low Wind NW</th>\n",
       "      <th>Moderate Wind NE</th>\n",
       "      <th>Moderate Wind SE</th>\n",
       "      <th>Moderate Wind SW</th>\n",
       "      <th>Moderate Wind NW</th>\n",
       "      <th>High Wind NE</th>\n",
       "      <th>High Wind SE</th>\n",
       "      <th>High Wind SW</th>\n",
       "      <th>High Wind NW</th>\n",
       "    </tr>\n",
       "  </thead>\n",
       "  <tbody>\n",
       "    <tr>\n",
       "      <th>0</th>\n",
       "      <td>UNNAMED</td>\n",
       "      <td>1851-06-25</td>\n",
       "      <td>0</td>\n",
       "      <td>HU</td>\n",
       "      <td>28.0N</td>\n",
       "      <td>94.8W</td>\n",
       "      <td>80</td>\n",
       "      <td>-999</td>\n",
       "      <td>-999</td>\n",
       "      <td>-999</td>\n",
       "      <td>-999</td>\n",
       "      <td>-999</td>\n",
       "      <td>-999</td>\n",
       "      <td>-999</td>\n",
       "      <td>-999</td>\n",
       "      <td>-999</td>\n",
       "      <td>-999</td>\n",
       "      <td>-999</td>\n",
       "      <td>-999</td>\n",
       "      <td>-999</td>\n",
       "    </tr>\n",
       "    <tr>\n",
       "      <th>1</th>\n",
       "      <td>UNNAMED</td>\n",
       "      <td>1851-06-25</td>\n",
       "      <td>600</td>\n",
       "      <td>HU</td>\n",
       "      <td>28.0N</td>\n",
       "      <td>95.4W</td>\n",
       "      <td>80</td>\n",
       "      <td>-999</td>\n",
       "      <td>-999</td>\n",
       "      <td>-999</td>\n",
       "      <td>-999</td>\n",
       "      <td>-999</td>\n",
       "      <td>-999</td>\n",
       "      <td>-999</td>\n",
       "      <td>-999</td>\n",
       "      <td>-999</td>\n",
       "      <td>-999</td>\n",
       "      <td>-999</td>\n",
       "      <td>-999</td>\n",
       "      <td>-999</td>\n",
       "    </tr>\n",
       "    <tr>\n",
       "      <th>2</th>\n",
       "      <td>UNNAMED</td>\n",
       "      <td>1851-06-25</td>\n",
       "      <td>1200</td>\n",
       "      <td>HU</td>\n",
       "      <td>28.0N</td>\n",
       "      <td>96.0W</td>\n",
       "      <td>80</td>\n",
       "      <td>-999</td>\n",
       "      <td>-999</td>\n",
       "      <td>-999</td>\n",
       "      <td>-999</td>\n",
       "      <td>-999</td>\n",
       "      <td>-999</td>\n",
       "      <td>-999</td>\n",
       "      <td>-999</td>\n",
       "      <td>-999</td>\n",
       "      <td>-999</td>\n",
       "      <td>-999</td>\n",
       "      <td>-999</td>\n",
       "      <td>-999</td>\n",
       "    </tr>\n",
       "    <tr>\n",
       "      <th>3</th>\n",
       "      <td>UNNAMED</td>\n",
       "      <td>1851-06-25</td>\n",
       "      <td>1800</td>\n",
       "      <td>HU</td>\n",
       "      <td>28.1N</td>\n",
       "      <td>96.5W</td>\n",
       "      <td>80</td>\n",
       "      <td>-999</td>\n",
       "      <td>-999</td>\n",
       "      <td>-999</td>\n",
       "      <td>-999</td>\n",
       "      <td>-999</td>\n",
       "      <td>-999</td>\n",
       "      <td>-999</td>\n",
       "      <td>-999</td>\n",
       "      <td>-999</td>\n",
       "      <td>-999</td>\n",
       "      <td>-999</td>\n",
       "      <td>-999</td>\n",
       "      <td>-999</td>\n",
       "    </tr>\n",
       "    <tr>\n",
       "      <th>4</th>\n",
       "      <td>UNNAMED</td>\n",
       "      <td>1851-06-25</td>\n",
       "      <td>2100</td>\n",
       "      <td>HU</td>\n",
       "      <td>28.2N</td>\n",
       "      <td>96.8W</td>\n",
       "      <td>80</td>\n",
       "      <td>-999</td>\n",
       "      <td>-999</td>\n",
       "      <td>-999</td>\n",
       "      <td>-999</td>\n",
       "      <td>-999</td>\n",
       "      <td>-999</td>\n",
       "      <td>-999</td>\n",
       "      <td>-999</td>\n",
       "      <td>-999</td>\n",
       "      <td>-999</td>\n",
       "      <td>-999</td>\n",
       "      <td>-999</td>\n",
       "      <td>-999</td>\n",
       "    </tr>\n",
       "  </tbody>\n",
       "</table>\n",
       "</div>"
      ],
      "text/plain": [
       "                  Name       Date  Time Status Latitude Longitude  \\\n",
       "0              UNNAMED 1851-06-25     0     HU    28.0N     94.8W   \n",
       "1              UNNAMED 1851-06-25   600     HU    28.0N     95.4W   \n",
       "2              UNNAMED 1851-06-25  1200     HU    28.0N     96.0W   \n",
       "3              UNNAMED 1851-06-25  1800     HU    28.1N     96.5W   \n",
       "4              UNNAMED 1851-06-25  2100     HU    28.2N     96.8W   \n",
       "\n",
       "   Maximum Wind  Minimum Pressure  Low Wind NE  Low Wind SE  Low Wind SW  \\\n",
       "0            80              -999         -999         -999         -999   \n",
       "1            80              -999         -999         -999         -999   \n",
       "2            80              -999         -999         -999         -999   \n",
       "3            80              -999         -999         -999         -999   \n",
       "4            80              -999         -999         -999         -999   \n",
       "\n",
       "   Low Wind NW  Moderate Wind NE  Moderate Wind SE  Moderate Wind SW  \\\n",
       "0         -999              -999              -999              -999   \n",
       "1         -999              -999              -999              -999   \n",
       "2         -999              -999              -999              -999   \n",
       "3         -999              -999              -999              -999   \n",
       "4         -999              -999              -999              -999   \n",
       "\n",
       "   Moderate Wind NW  High Wind NE  High Wind SE  High Wind SW  High Wind NW  \n",
       "0              -999          -999          -999          -999          -999  \n",
       "1              -999          -999          -999          -999          -999  \n",
       "2              -999          -999          -999          -999          -999  \n",
       "3              -999          -999          -999          -999          -999  \n",
       "4              -999          -999          -999          -999          -999  "
      ]
     },
     "execution_count": 118,
     "metadata": {},
     "output_type": "execute_result"
    }
   ],
   "source": [
    "df.head()"
   ]
  },
  {
   "cell_type": "code",
   "execution_count": 119,
   "metadata": {},
   "outputs": [],
   "source": [
    "# Change all time to format HHMM.\n",
    "df['Time'] = df['Time'].astype('object')\n",
    "def hhmm(time):\n",
    "    time = str(time)\n",
    "    digits = re.findall(r'\\d', time)\n",
    "    t = ''\n",
    "    if len(digits) == 1:\n",
    "        t ='0{i}00'.format(i =time)\n",
    "    elif len(digits) == 2:\n",
    "        t = '{i}00'.format(i =time)\n",
    "    elif len(digits) == 3:\n",
    "        t = '0{i}'.format(i =time)\n",
    "    else:\n",
    "        t = time\n",
    "    return t\n",
    "\n",
    "df['Time'] = df['Time'].apply(hhmm)"
   ]
  },
  {
   "cell_type": "code",
   "execution_count": 120,
   "metadata": {},
   "outputs": [],
   "source": [
    "df['Time']=pd.to_datetime(df['Time'] , format='%H%M%S').dt.time"
   ]
  },
  {
   "cell_type": "code",
   "execution_count": 121,
   "metadata": {},
   "outputs": [],
   "source": [
    "df['Month'] = df['Date'].apply(lambda x: x.month)\n",
    "df['Year'] = df['Date'].apply(lambda x: x.year)\n",
    "\n",
    "#Scientists consider the HURDAT2 record to be accurate for landfall statistics from 1900 onward\n",
    "df=df[df.Year >=1900]"
   ]
  },
  {
   "cell_type": "code",
   "execution_count": 122,
   "metadata": {},
   "outputs": [
    {
     "name": "stdout",
     "output_type": "stream",
     "text": [
      "Missing Values in column Name =  0\n",
      "Missing Values in column Date =  0\n",
      "Missing Values in column Time =  0\n",
      "Missing Values in column Status =  0\n",
      "Missing Values in column Latitude =  0\n",
      "Missing Values in column Longitude =  0\n",
      "Missing Values in column Maximum Wind =  0\n",
      "Missing Values in column Minimum Pressure =  21604\n",
      "Missing Values in column Low Wind NE =  33956\n",
      "Missing Values in column Low Wind SE =  33956\n",
      "Missing Values in column Low Wind SW =  33956\n",
      "Missing Values in column Low Wind NW =  33956\n",
      "Missing Values in column Moderate Wind NE =  33956\n",
      "Missing Values in column Moderate Wind SE =  33956\n",
      "Missing Values in column Moderate Wind SW =  33956\n",
      "Missing Values in column Moderate Wind NW =  33956\n",
      "Missing Values in column High Wind NE =  33956\n",
      "Missing Values in column High Wind SE =  33956\n",
      "Missing Values in column High Wind SW =  33956\n",
      "Missing Values in column High Wind NW =  33956\n",
      "Missing Values in column Month =  0\n",
      "Missing Values in column Year =  0\n"
     ]
    }
   ],
   "source": [
    "#missing values are represented by -999, fill missing values with Mean\n",
    "for column in df.columns:\n",
    "    missing_cnt = df[column][df[column] == -999].count()\n",
    "    print('Missing Values in column {col} = '.format(col = column) , missing_cnt )\n",
    "    if missing_cnt!= 0:\n",
    "        #print('in ' , column)\n",
    "        mean = round(df[column][df[column] != -999 ].mean())\n",
    "        #print(\"mean\",mean)\n",
    "        index = df.loc[df[column] == -999 , column].index\n",
    "        #print(\"index\" , index )\n",
    "        df.loc[df[column] == -999 , column] = mean\n",
    "        #print(df.loc[index , column])"
   ]
  },
  {
   "cell_type": "code",
   "execution_count": 123,
   "metadata": {},
   "outputs": [
    {
     "data": {
      "text/plain": [
       "(39877, 22)"
      ]
     },
     "execution_count": 123,
     "metadata": {},
     "output_type": "execute_result"
    }
   ],
   "source": [
    "df.shape"
   ]
  },
  {
   "cell_type": "code",
   "execution_count": 124,
   "metadata": {},
   "outputs": [],
   "source": [
    "# Convert the latitude and longitude Column to numeric type.\n",
    "df['Latitude'] =  df['Latitude'].apply(lambda x: re.match('[0-9]{1,3}.[0-9]{0,1}' , x)[0])\n",
    "df['Longitude'] =   df['Longitude'].apply(lambda x: re.match('[0-9]{1,3}.[0-9]{0,1}' , x)[0])"
   ]
  },
  {
   "cell_type": "markdown",
   "metadata": {},
   "source": [
    "<h2>EDA</h2>"
   ]
  },
  {
   "cell_type": "code",
   "execution_count": 125,
   "metadata": {},
   "outputs": [],
   "source": [
    "# TD – Tropical cyclone of tropical depression intensity (< 34 knots)\n",
    "# TS – Tropical cyclone of tropical storm intensity (34-63 knots)\n",
    "# HU – Tropical cyclone of hurricane intensity (> 64 knots)\n",
    "# EX – Extratropical cyclone (of any intensity)\n",
    "# SD – Subtropical cyclone of subtropical depression intensity (< 34 knots)\n",
    "# SS – Subtropical cyclone of subtropical storm intensity (> 34 knots)\n",
    "# LO – A low that is neither a tropical cyclone, a subtropical cyclone, nor an extratropical cyclone (of any intensity)\n",
    "# WV – Tropical Wave (of any intensity)\n",
    "# DB – Disturbance (of any intensity)"
   ]
  },
  {
   "cell_type": "code",
   "execution_count": 126,
   "metadata": {
    "scrolled": true
   },
   "outputs": [
    {
     "data": {
      "image/png": "[encoded data removed]",
      "text/plain": [
       "<Figure size 432x288 with 1 Axes>"
      ]
     },
     "metadata": {},
     "output_type": "display_data"
    }
   ],
   "source": [
    "sns.set_theme(style=\"darkgrid\")\n",
    "\n",
    "status_count=sns.countplot(x='Status',data=df,order=df['Status'].value_counts().index)\n",
    "status_count.set_xticklabels(status_count.get_xticklabels())\n",
    "status_count.axes.set_ylim(0,15000)\n",
    "status_count.axes.set_title(\"Status Counts\",fontsize=15)\n",
    "status_count.set_xlabel(\"status\",fontsize=10)\n",
    "status_count.set_ylabel(\"Status Counts\",fontsize=15)\n",
    "\n",
    "for p in status_count.patches:\n",
    "    height = p.get_height()\n",
    "    status_count.text(p.get_x()+p.get_width()/2., height + 0.1,height ,ha=\"center\")"
   ]
  },
  {
   "cell_type": "code",
   "execution_count": 127,
   "metadata": {},
   "outputs": [],
   "source": [
    "#other=['LO','SS','SD','WV','DB']\n",
    "Status=[]\n",
    "for i in df['Status']:\n",
    "    if i in [' LO',' SS',' SD',' WV',' DB']:\n",
    "        i='oth'\n",
    "    \n",
    "    else:\n",
    "        i\n",
    "    Status.append(i)"
   ]
  },
  {
   "cell_type": "code",
   "execution_count": 128,
   "metadata": {},
   "outputs": [
    {
     "name": "stdout",
     "output_type": "stream",
     "text": [
      "[' EX' ' HU' ' TD' ' TS' 'oth']\n"
     ]
    }
   ],
   "source": [
    "x = np.array(Status)\n",
    "print(np.unique(x))"
   ]
  },
  {
   "cell_type": "code",
   "execution_count": 129,
   "metadata": {},
   "outputs": [],
   "source": [
    "df['Status']=Status"
   ]
  },
  {
   "cell_type": "code",
   "execution_count": 130,
   "metadata": {},
   "outputs": [
    {
     "data": {
      "text/plain": [
       "array([' EX', ' HU', ' TD', ' TS', 'oth'], dtype=object)"
      ]
     },
     "execution_count": 130,
     "metadata": {},
     "output_type": "execute_result"
    }
   ],
   "source": [
    "np.unique(df['Status'])"
   ]
  },
  {
   "cell_type": "code",
   "execution_count": 131,
   "metadata": {},
   "outputs": [
    {
     "data": {
      "image/png": "[encoded data removed]",
      "text/plain": [
       "<Figure size 720x576 with 2 Axes>"
      ]
     },
     "metadata": {},
     "output_type": "display_data"
    }
   ],
   "source": [
    "fig, (ax1, ax2) = plt.subplots(ncols=2, sharey=True,figsize=(10,8))\n",
    "sns.histplot(df['Latitude'].astype('float'), ax=ax1)\n",
    "ax1.set_title('Number of Cyclones over Lat')\n",
    "sns.histplot(df['Longitude'].astype('float'), ax=ax2)\n",
    "ax2.set_title('Number of Cyclones over Lon');"
   ]
  },
  {
   "cell_type": "code",
   "execution_count": 132,
   "metadata": {},
   "outputs": [
    {
     "name": "stderr",
     "output_type": "stream",
     "text": [
      "/opt/anaconda3/lib/python3.8/site-packages/seaborn/distributions.py:2551: FutureWarning: `distplot` is a deprecated function and will be removed in a future version. Please adapt your code to use either `displot` (a figure-level function with similar flexibility) or `histplot` (an axes-level function for histograms).\n",
      "  warnings.warn(msg, FutureWarning)\n",
      "/opt/anaconda3/lib/python3.8/site-packages/seaborn/distributions.py:2551: FutureWarning: `distplot` is a deprecated function and will be removed in a future version. Please adapt your code to use either `displot` (a figure-level function with similar flexibility) or `histplot` (an axes-level function for histograms).\n",
      "  warnings.warn(msg, FutureWarning)\n"
     ]
    },
    {
     "data": {
      "image/png": "[encoded data removed]",
      "text/plain": [
       "<Figure size 720x576 with 2 Axes>"
      ]
     },
     "metadata": {},
     "output_type": "display_data"
    }
   ],
   "source": [
    "fig, (ax1, ax2) = plt.subplots(ncols=2, sharey=False,figsize=(10,8))\n",
    "sns.distplot(df['Maximum Wind'],ax=ax1)\n",
    "ax1.set_title('Max Wind Speed Distribution')\n",
    "sns.distplot(df['Minimum Pressure'],ax=ax2)\n",
    "ax2.set_title('Minimum Pressure Distribution');"
   ]
  },
  {
   "cell_type": "code",
   "execution_count": 133,
   "metadata": {},
   "outputs": [],
   "source": [
    "month = ['Jan' , 'Feb' , 'Mar' , 'Apr' , 'May' , 'June' , 'July' , 'Aug' , 'Sep','Oct' , 'Nov' , 'Dec']"
   ]
  },
  {
   "cell_type": "code",
   "execution_count": 134,
   "metadata": {},
   "outputs": [],
   "source": [
    "df_plot = df.groupby(['Status', 'Month']).size().reset_index().pivot(columns='Status', index='Month', values=0)"
   ]
  },
  {
   "cell_type": "code",
   "execution_count": 135,
   "metadata": {},
   "outputs": [],
   "source": [
    "df_plot=df_plot.fillna(0)"
   ]
  },
  {
   "cell_type": "code",
   "execution_count": 136,
   "metadata": {
    "scrolled": true
   },
   "outputs": [
    {
     "data": {
      "image/png": "[encoded data removed]",
      "text/plain": [
       "<Figure size 576x576 with 1 Axes>"
      ]
     },
     "metadata": {},
     "output_type": "display_data"
    }
   ],
   "source": [
    "sns.set_theme(style=\"darkgrid\")\n",
    "\n",
    "ax=df_plot.plot(kind='bar', stacked=True,figsize = (8,8))\n",
    "ax.set_xticklabels(month, rotation=90)\n",
    "ax.set_title(\"Number of Cyclones by Month\");"
   ]
  },
  {
   "cell_type": "code",
   "execution_count": 137,
   "metadata": {},
   "outputs": [
    {
     "data": {
      "text/plain": [
       "Text(0.5, 1.0, 'Number of Cyclones by Month')"
      ]
     },
     "execution_count": 137,
     "metadata": {},
     "output_type": "execute_result"
    },
    {
     "data": {
      "image/png": "[encoded data removed]",
      "text/plain": [
       "<Figure size 576x576 with 1 Axes>"
      ]
     },
     "metadata": {},
     "output_type": "display_data"
    }
   ],
   "source": [
    "freq = df.groupby('Month')['Status'].count()\n",
    "freq=pd.DataFrame(freq)#,columns=[['Month','Number']])\n",
    "\n",
    "font = {'family' : 'monospace',\n",
    "        'weight' : 'bold',\n",
    "        'size'   : 20}\n",
    "plt.rc('font', **font)\n",
    "plt.figure(figsize = (8,8))\n",
    "sns.set_theme(style=\"darkgrid\")\n",
    "ax = sns.barplot(x=freq.index, y=freq.Status , color='Yellow' )\n",
    "plt.xticks([0,1,2,3,4,5,6,7,8,9,10,11] , month , rotation = 45)\n",
    "plt.ylabel('Cyclone Counts')\n",
    "plt.title('Number of Cyclones by Month')"
   ]
  },
  {
   "cell_type": "code",
   "execution_count": 138,
   "metadata": {
    "scrolled": true
   },
   "outputs": [
    {
     "data": {
      "image/png": "[encoded data removed]",
      "text/plain": [
       "<Figure size 1080x576 with 1 Axes>"
      ]
     },
     "metadata": {},
     "output_type": "display_data"
    }
   ],
   "source": [
    "freq = df.groupby('Year').count().sort_values(by = 'Month' , ascending = False)\n",
    "plt.figure(figsize= (15,8))\n",
    "sns.lineplot(x = freq.index , y = 'Month' , data = freq , label = 'Frequency')\n",
    "plt.ylabel('Cyclone Counts')\n",
    "plt.title('Number of Cyclones across the Years')\n",
    "plt.show()"
   ]
  },
  {
   "cell_type": "markdown",
   "metadata": {},
   "source": [
    "<h2>KNN</h2>"
   ]
  },
  {
   "cell_type": "code",
   "execution_count": 139,
   "metadata": {},
   "outputs": [],
   "source": [
    "from sklearn.preprocessing import LabelEncoder\n",
    "\n",
    "#y = df['Status']\n",
    "\n",
    "#le = LabelEncoder()\n",
    "\n",
    "#le.fit(y)\n",
    "#df.loc[:,'Status'] = le.transform(y)\n",
    "#print(le.classes_)"
   ]
  },
  {
   "cell_type": "code",
   "execution_count": 140,
   "metadata": {},
   "outputs": [],
   "source": [
    "from sklearn.neighbors import KNeighborsClassifier\n",
    "from sklearn.preprocessing import StandardScaler\n",
    "from sklearn.model_selection import train_test_split, GridSearchCV, cross_val_score\n",
    "from sklearn.feature_extraction import text\n",
    "from sklearn import metrics"
   ]
  },
  {
   "cell_type": "code",
   "execution_count": 141,
   "metadata": {},
   "outputs": [
    {
     "data": {
      "text/plain": [
       "Name                        object\n",
       "Date                datetime64[ns]\n",
       "Time                        object\n",
       "Status                      object\n",
       "Latitude                    object\n",
       "Longitude                   object\n",
       "Maximum Wind                 int64\n",
       "Minimum Pressure             int64\n",
       "Low Wind NE                  int64\n",
       "Low Wind SE                  int64\n",
       "Low Wind SW                  int64\n",
       "Low Wind NW                  int64\n",
       "Moderate Wind NE             int64\n",
       "Moderate Wind SE             int64\n",
       "Moderate Wind SW             int64\n",
       "Moderate Wind NW             int64\n",
       "High Wind NE                 int64\n",
       "High Wind SE                 int64\n",
       "High Wind SW                 int64\n",
       "High Wind NW                 int64\n",
       "Month                        int64\n",
       "Year                         int64\n",
       "dtype: object"
      ]
     },
     "execution_count": 141,
     "metadata": {},
     "output_type": "execute_result"
    }
   ],
   "source": [
    "df.dtypes"
   ]
  },
  {
   "cell_type": "code",
   "execution_count": 142,
   "metadata": {},
   "outputs": [],
   "source": [
    "X =  df.drop(columns = ['Name' ,'Date','Time','Status'])\n",
    "y = df['Status']"
   ]
  },
  {
   "cell_type": "code",
   "execution_count": 143,
   "metadata": {},
   "outputs": [],
   "source": [
    "# stratify y just in case \n",
    "# test_size : default = 0.25\n",
    "X_train, X_test, y_train, y_test = train_test_split(X, y, stratify=y, random_state=42)"
   ]
  },
  {
   "cell_type": "code",
   "execution_count": 144,
   "metadata": {},
   "outputs": [
    {
     "data": {
      "text/plain": [
       " TS    0.347277\n",
       " HU    0.253954\n",
       " TD    0.242786\n",
       " EX    0.103956\n",
       "oth    0.052028\n",
       "Name: Status, dtype: float64"
      ]
     },
     "execution_count": 144,
     "metadata": {},
     "output_type": "execute_result"
    }
   ],
   "source": [
    "y_train.value_counts(normalize=True)"
   ]
  },
  {
   "cell_type": "code",
   "execution_count": 145,
   "metadata": {},
   "outputs": [
    {
     "data": {
      "text/plain": [
       " TS    0.347242\n",
       " HU    0.253962\n",
       " TD    0.242728\n",
       " EX    0.104012\n",
       "oth    0.052056\n",
       "Name: Status, dtype: float64"
      ]
     },
     "execution_count": 145,
     "metadata": {},
     "output_type": "execute_result"
    }
   ],
   "source": [
    "y_test.value_counts(normalize=True)"
   ]
  },
  {
   "cell_type": "code",
   "execution_count": 146,
   "metadata": {},
   "outputs": [],
   "source": [
    "ss=StandardScaler()\n",
    "X_train_sc=ss.fit_transform(X_train)\n",
    "X_test_sc=ss.transform(X_test)\n",
    "\n",
    "knn=KNeighborsClassifier()"
   ]
  },
  {
   "cell_type": "code",
   "execution_count": 147,
   "metadata": {},
   "outputs": [],
   "source": [
    "knn=knn.fit(X_train_sc,y_train)"
   ]
  },
  {
   "cell_type": "code",
   "execution_count": 148,
   "metadata": {},
   "outputs": [],
   "source": [
    "y_predictions=knn.predict(X_test_sc)"
   ]
  },
  {
   "cell_type": "code",
   "execution_count": 149,
   "metadata": {
    "scrolled": true
   },
   "outputs": [
    {
     "name": "stdout",
     "output_type": "stream",
     "text": [
      "Cross Validation Score: 0.90290\n",
      "train score: 0.94714\n",
      "test score:0.90371\n",
      "Accuracy:0.90371\n"
     ]
    }
   ],
   "source": [
    "#what to expect from the model \n",
    "print(\"Cross Validation Score: {:.5f}\".format(cross_val_score(knn,X_train_sc,y_train,cv=10).mean()))\n",
    "\n",
    "print('train score: {:.5f}'.format(knn.score(X_train_sc,y_train)))\n",
    "print('test score:{:.5f}' .format(knn.score(X_test_sc,y_test)))\n",
    "\n",
    "\n",
    "# Model Accuracy, how often is the classifier correct?\n",
    "print('Accuracy:{:.5f}'.format(metrics.accuracy_score(y_true = y_test, y_pred = y_predictions)))"
   ]
  },
  {
   "cell_type": "code",
   "execution_count": 150,
   "metadata": {},
   "outputs": [],
   "source": [
    "preds = knn.predict(X_test)\n",
    "\n",
    "# Setting knn_misclass_df as a dataframe using data as y_test\n",
    "knn_mispred_df = pd.DataFrame(data = y_test)\n",
    "\n",
    "knn_mispred_df = knn_mispred_df.rename({'Status' : 'actual_Status'}, axis = 1)\n",
    "\n",
    "# Setting predicted_subreddit as preds\n",
    "knn_mispred_df['predicted_Status'] = preds\n",
    "\n",
    "knn_mispred_df['mispred'] = (knn_mispred_df['predicted_Status']!=knn_mispred_df['actual_Status'] )\n"
   ]
  },
  {
   "cell_type": "code",
   "execution_count": 151,
   "metadata": {
    "scrolled": true
   },
   "outputs": [
    {
     "data": {
      "text/html": [
       "<div>\n",
       "<style scoped>\n",
       "    .dataframe tbody tr th:only-of-type {\n",
       "        vertical-align: middle;\n",
       "    }\n",
       "\n",
       "    .dataframe tbody tr th {\n",
       "        vertical-align: top;\n",
       "    }\n",
       "\n",
       "    .dataframe thead th {\n",
       "        text-align: right;\n",
       "    }\n",
       "</style>\n",
       "<table border=\"1\" class=\"dataframe\">\n",
       "  <thead>\n",
       "    <tr style=\"text-align: right;\">\n",
       "      <th></th>\n",
       "      <th>Name</th>\n",
       "      <th>Date</th>\n",
       "      <th>Time</th>\n",
       "      <th>Status</th>\n",
       "      <th>Latitude</th>\n",
       "      <th>Longitude</th>\n",
       "      <th>Maximum Wind</th>\n",
       "      <th>Minimum Pressure</th>\n",
       "      <th>Low Wind NE</th>\n",
       "      <th>Low Wind SE</th>\n",
       "      <th>...</th>\n",
       "      <th>Moderate Wind NE</th>\n",
       "      <th>Moderate Wind SE</th>\n",
       "      <th>Moderate Wind SW</th>\n",
       "      <th>Moderate Wind NW</th>\n",
       "      <th>High Wind NE</th>\n",
       "      <th>High Wind SE</th>\n",
       "      <th>High Wind SW</th>\n",
       "      <th>High Wind NW</th>\n",
       "      <th>Month</th>\n",
       "      <th>Year</th>\n",
       "    </tr>\n",
       "  </thead>\n",
       "  <tbody>\n",
       "    <tr>\n",
       "      <th>34091</th>\n",
       "      <td>UNNAMED</td>\n",
       "      <td>1980-11-17</td>\n",
       "      <td>06:00:00</td>\n",
       "      <td>TD</td>\n",
       "      <td>25.2</td>\n",
       "      <td>83.2</td>\n",
       "      <td>30</td>\n",
       "      <td>992</td>\n",
       "      <td>82</td>\n",
       "      <td>77</td>\n",
       "      <td>...</td>\n",
       "      <td>25</td>\n",
       "      <td>23</td>\n",
       "      <td>15</td>\n",
       "      <td>18</td>\n",
       "      <td>8</td>\n",
       "      <td>7</td>\n",
       "      <td>5</td>\n",
       "      <td>6</td>\n",
       "      <td>11</td>\n",
       "      <td>1980</td>\n",
       "    </tr>\n",
       "    <tr>\n",
       "      <th>26948</th>\n",
       "      <td>ETHEL</td>\n",
       "      <td>1964-09-04</td>\n",
       "      <td>18:00:00</td>\n",
       "      <td>TS</td>\n",
       "      <td>18.4</td>\n",
       "      <td>38.4</td>\n",
       "      <td>35</td>\n",
       "      <td>992</td>\n",
       "      <td>82</td>\n",
       "      <td>77</td>\n",
       "      <td>...</td>\n",
       "      <td>25</td>\n",
       "      <td>23</td>\n",
       "      <td>15</td>\n",
       "      <td>18</td>\n",
       "      <td>8</td>\n",
       "      <td>7</td>\n",
       "      <td>5</td>\n",
       "      <td>6</td>\n",
       "      <td>9</td>\n",
       "      <td>1964</td>\n",
       "    </tr>\n",
       "    <tr>\n",
       "      <th>26189</th>\n",
       "      <td>HATTIE</td>\n",
       "      <td>1961-10-31</td>\n",
       "      <td>00:00:00</td>\n",
       "      <td>HU</td>\n",
       "      <td>17.9</td>\n",
       "      <td>86.1</td>\n",
       "      <td>140</td>\n",
       "      <td>920</td>\n",
       "      <td>82</td>\n",
       "      <td>77</td>\n",
       "      <td>...</td>\n",
       "      <td>25</td>\n",
       "      <td>23</td>\n",
       "      <td>15</td>\n",
       "      <td>18</td>\n",
       "      <td>8</td>\n",
       "      <td>7</td>\n",
       "      <td>5</td>\n",
       "      <td>6</td>\n",
       "      <td>10</td>\n",
       "      <td>1961</td>\n",
       "    </tr>\n",
       "    <tr>\n",
       "      <th>25408</th>\n",
       "      <td>GRACIE</td>\n",
       "      <td>1959-09-23</td>\n",
       "      <td>18:00:00</td>\n",
       "      <td>TS</td>\n",
       "      <td>25.4</td>\n",
       "      <td>74.0</td>\n",
       "      <td>60</td>\n",
       "      <td>992</td>\n",
       "      <td>82</td>\n",
       "      <td>77</td>\n",
       "      <td>...</td>\n",
       "      <td>25</td>\n",
       "      <td>23</td>\n",
       "      <td>15</td>\n",
       "      <td>18</td>\n",
       "      <td>8</td>\n",
       "      <td>7</td>\n",
       "      <td>5</td>\n",
       "      <td>6</td>\n",
       "      <td>9</td>\n",
       "      <td>1959</td>\n",
       "    </tr>\n",
       "    <tr>\n",
       "      <th>31300</th>\n",
       "      <td>BECKY</td>\n",
       "      <td>1974-08-31</td>\n",
       "      <td>06:00:00</td>\n",
       "      <td>HU</td>\n",
       "      <td>40.0</td>\n",
       "      <td>58.0</td>\n",
       "      <td>100</td>\n",
       "      <td>992</td>\n",
       "      <td>82</td>\n",
       "      <td>77</td>\n",
       "      <td>...</td>\n",
       "      <td>25</td>\n",
       "      <td>23</td>\n",
       "      <td>15</td>\n",
       "      <td>18</td>\n",
       "      <td>8</td>\n",
       "      <td>7</td>\n",
       "      <td>5</td>\n",
       "      <td>6</td>\n",
       "      <td>8</td>\n",
       "      <td>1974</td>\n",
       "    </tr>\n",
       "    <tr>\n",
       "      <th>...</th>\n",
       "      <td>...</td>\n",
       "      <td>...</td>\n",
       "      <td>...</td>\n",
       "      <td>...</td>\n",
       "      <td>...</td>\n",
       "      <td>...</td>\n",
       "      <td>...</td>\n",
       "      <td>...</td>\n",
       "      <td>...</td>\n",
       "      <td>...</td>\n",
       "      <td>...</td>\n",
       "      <td>...</td>\n",
       "      <td>...</td>\n",
       "      <td>...</td>\n",
       "      <td>...</td>\n",
       "      <td>...</td>\n",
       "      <td>...</td>\n",
       "      <td>...</td>\n",
       "      <td>...</td>\n",
       "      <td>...</td>\n",
       "      <td>...</td>\n",
       "    </tr>\n",
       "    <tr>\n",
       "      <th>39991</th>\n",
       "      <td>CLAUDETTE</td>\n",
       "      <td>1997-07-13</td>\n",
       "      <td>06:00:00</td>\n",
       "      <td>TD</td>\n",
       "      <td>31.3</td>\n",
       "      <td>73.3</td>\n",
       "      <td>25</td>\n",
       "      <td>1011</td>\n",
       "      <td>82</td>\n",
       "      <td>77</td>\n",
       "      <td>...</td>\n",
       "      <td>25</td>\n",
       "      <td>23</td>\n",
       "      <td>15</td>\n",
       "      <td>18</td>\n",
       "      <td>8</td>\n",
       "      <td>7</td>\n",
       "      <td>5</td>\n",
       "      <td>6</td>\n",
       "      <td>7</td>\n",
       "      <td>1997</td>\n",
       "    </tr>\n",
       "    <tr>\n",
       "      <th>19145</th>\n",
       "      <td>UNNAMED</td>\n",
       "      <td>1939-09-23</td>\n",
       "      <td>18:00:00</td>\n",
       "      <td>TS</td>\n",
       "      <td>20.0</td>\n",
       "      <td>93.7</td>\n",
       "      <td>35</td>\n",
       "      <td>992</td>\n",
       "      <td>82</td>\n",
       "      <td>77</td>\n",
       "      <td>...</td>\n",
       "      <td>25</td>\n",
       "      <td>23</td>\n",
       "      <td>15</td>\n",
       "      <td>18</td>\n",
       "      <td>8</td>\n",
       "      <td>7</td>\n",
       "      <td>5</td>\n",
       "      <td>6</td>\n",
       "      <td>9</td>\n",
       "      <td>1939</td>\n",
       "    </tr>\n",
       "    <tr>\n",
       "      <th>46143</th>\n",
       "      <td>FRED</td>\n",
       "      <td>2009-09-18</td>\n",
       "      <td>12:00:00</td>\n",
       "      <td>oth</td>\n",
       "      <td>25.6</td>\n",
       "      <td>66.0</td>\n",
       "      <td>25</td>\n",
       "      <td>1012</td>\n",
       "      <td>0</td>\n",
       "      <td>0</td>\n",
       "      <td>...</td>\n",
       "      <td>0</td>\n",
       "      <td>0</td>\n",
       "      <td>0</td>\n",
       "      <td>0</td>\n",
       "      <td>0</td>\n",
       "      <td>0</td>\n",
       "      <td>0</td>\n",
       "      <td>0</td>\n",
       "      <td>9</td>\n",
       "      <td>2009</td>\n",
       "    </tr>\n",
       "    <tr>\n",
       "      <th>17716</th>\n",
       "      <td>UNNAMED</td>\n",
       "      <td>1934-09-18</td>\n",
       "      <td>06:00:00</td>\n",
       "      <td>TS</td>\n",
       "      <td>17.7</td>\n",
       "      <td>62.1</td>\n",
       "      <td>45</td>\n",
       "      <td>992</td>\n",
       "      <td>82</td>\n",
       "      <td>77</td>\n",
       "      <td>...</td>\n",
       "      <td>25</td>\n",
       "      <td>23</td>\n",
       "      <td>15</td>\n",
       "      <td>18</td>\n",
       "      <td>8</td>\n",
       "      <td>7</td>\n",
       "      <td>5</td>\n",
       "      <td>6</td>\n",
       "      <td>9</td>\n",
       "      <td>1934</td>\n",
       "    </tr>\n",
       "    <tr>\n",
       "      <th>25518</th>\n",
       "      <td>JUDITH</td>\n",
       "      <td>1959-10-17</td>\n",
       "      <td>18:00:00</td>\n",
       "      <td>TS</td>\n",
       "      <td>23.8</td>\n",
       "      <td>84.5</td>\n",
       "      <td>40</td>\n",
       "      <td>992</td>\n",
       "      <td>82</td>\n",
       "      <td>77</td>\n",
       "      <td>...</td>\n",
       "      <td>25</td>\n",
       "      <td>23</td>\n",
       "      <td>15</td>\n",
       "      <td>18</td>\n",
       "      <td>8</td>\n",
       "      <td>7</td>\n",
       "      <td>5</td>\n",
       "      <td>6</td>\n",
       "      <td>10</td>\n",
       "      <td>1959</td>\n",
       "    </tr>\n",
       "  </tbody>\n",
       "</table>\n",
       "<p>9970 rows × 22 columns</p>\n",
       "</div>"
      ],
      "text/plain": [
       "                      Name       Date      Time Status Latitude Longitude  \\\n",
       "34091              UNNAMED 1980-11-17  06:00:00     TD     25.2      83.2   \n",
       "26948                ETHEL 1964-09-04  18:00:00     TS     18.4      38.4   \n",
       "26189               HATTIE 1961-10-31  00:00:00     HU     17.9      86.1   \n",
       "25408               GRACIE 1959-09-23  18:00:00     TS     25.4      74.0   \n",
       "31300                BECKY 1974-08-31  06:00:00     HU     40.0      58.0   \n",
       "...                    ...        ...       ...    ...      ...       ...   \n",
       "39991            CLAUDETTE 1997-07-13  06:00:00     TD     31.3      73.3   \n",
       "19145              UNNAMED 1939-09-23  18:00:00     TS     20.0      93.7   \n",
       "46143                 FRED 2009-09-18  12:00:00    oth     25.6      66.0   \n",
       "17716              UNNAMED 1934-09-18  06:00:00     TS     17.7      62.1   \n",
       "25518               JUDITH 1959-10-17  18:00:00     TS     23.8      84.5   \n",
       "\n",
       "       Maximum Wind  Minimum Pressure  Low Wind NE  Low Wind SE  ...  \\\n",
       "34091            30               992           82           77  ...   \n",
       "26948            35               992           82           77  ...   \n",
       "26189           140               920           82           77  ...   \n",
       "25408            60               992           82           77  ...   \n",
       "31300           100               992           82           77  ...   \n",
       "...             ...               ...          ...          ...  ...   \n",
       "39991            25              1011           82           77  ...   \n",
       "19145            35               992           82           77  ...   \n",
       "46143            25              1012            0            0  ...   \n",
       "17716            45               992           82           77  ...   \n",
       "25518            40               992           82           77  ...   \n",
       "\n",
       "       Moderate Wind NE  Moderate Wind SE  Moderate Wind SW  Moderate Wind NW  \\\n",
       "34091                25                23                15                18   \n",
       "26948                25                23                15                18   \n",
       "26189                25                23                15                18   \n",
       "25408                25                23                15                18   \n",
       "31300                25                23                15                18   \n",
       "...                 ...               ...               ...               ...   \n",
       "39991                25                23                15                18   \n",
       "19145                25                23                15                18   \n",
       "46143                 0                 0                 0                 0   \n",
       "17716                25                23                15                18   \n",
       "25518                25                23                15                18   \n",
       "\n",
       "       High Wind NE  High Wind SE  High Wind SW  High Wind NW  Month  Year  \n",
       "34091             8             7             5             6     11  1980  \n",
       "26948             8             7             5             6      9  1964  \n",
       "26189             8             7             5             6     10  1961  \n",
       "25408             8             7             5             6      9  1959  \n",
       "31300             8             7             5             6      8  1974  \n",
       "...             ...           ...           ...           ...    ...   ...  \n",
       "39991             8             7             5             6      7  1997  \n",
       "19145             8             7             5             6      9  1939  \n",
       "46143             0             0             0             0      9  2009  \n",
       "17716             8             7             5             6      9  1934  \n",
       "25518             8             7             5             6     10  1959  \n",
       "\n",
       "[9970 rows x 22 columns]"
      ]
     },
     "execution_count": 151,
     "metadata": {},
     "output_type": "execute_result"
    }
   ],
   "source": [
    "df.loc[knn_mispred_df.index]"
   ]
  },
  {
   "cell_type": "markdown",
   "metadata": {},
   "source": [
    "<h2>Decision Tree </h2>"
   ]
  },
  {
   "cell_type": "code",
   "execution_count": 152,
   "metadata": {},
   "outputs": [],
   "source": [
    "from sklearn.metrics import accuracy_score\n",
    "from sklearn.metrics import recall_score \n",
    "from sklearn.metrics import precision_score \n",
    "from sklearn.tree import DecisionTreeClassifier"
   ]
  },
  {
   "cell_type": "code",
   "execution_count": 153,
   "metadata": {},
   "outputs": [],
   "source": [
    "X =  df.drop(columns = ['Name' , 'Date','Time','Status'])\n",
    "y = df['Status']"
   ]
  },
  {
   "cell_type": "code",
   "execution_count": 154,
   "metadata": {},
   "outputs": [],
   "source": [
    "X_train, X_test, y_train, y_test = train_test_split(X, y, stratify=y, random_state=42)"
   ]
  },
  {
   "cell_type": "code",
   "execution_count": 155,
   "metadata": {},
   "outputs": [],
   "source": [
    "ss=StandardScaler()\n",
    "X_train_sc=ss.fit_transform(X_train)\n",
    "X_test_sc=ss.transform(X_test)"
   ]
  },
  {
   "cell_type": "code",
   "execution_count": 156,
   "metadata": {},
   "outputs": [],
   "source": [
    "#Create a Classifier and fit the model\n",
    "#set max_depth to avoid a fulling growing crazy tree\n",
    "Status_classifier = DecisionTreeClassifier(max_depth = 5, random_state=42).fit(X_train_sc, y_train)"
   ]
  },
  {
   "cell_type": "code",
   "execution_count": 157,
   "metadata": {},
   "outputs": [],
   "source": [
    "#Train the model using the training sets y_pred=rf.predict(X_test)\n",
    "y_predictions = Status_classifier.predict(X_test_sc)"
   ]
  },
  {
   "cell_type": "code",
   "execution_count": 158,
   "metadata": {
    "scrolled": true
   },
   "outputs": [
    {
     "name": "stdout",
     "output_type": "stream",
     "text": [
      "Cross Validation Score: 0.9044706024427798\n",
      "train score: 0.9073126692747517\n",
      "test score: 0.9013039117352056\n",
      "Accuracy: 0.9013039117352056\n"
     ]
    }
   ],
   "source": [
    "#What to expect from the model\n",
    "print(\"Cross Validation Score:\", cross_val_score(Status_classifier,X_train_sc,y_train,cv=10).mean())\n",
    "\n",
    "print('train score:' ,Status_classifier.score(X_train_sc,y_train))\n",
    "print('test score:' ,Status_classifier.score(X_test_sc,y_test))\n",
    "\n",
    "# Model Accuracy, how often is the classifier correct?\n",
    "print('Accuracy:' ,metrics.accuracy_score(y_true = y_test, y_pred = y_predictions))\n",
    "\n",
    "#increasing number of nodes could improve performance "
   ]
  },
  {
   "cell_type": "markdown",
   "metadata": {},
   "source": [
    "<h3>Optimizing Decision Tree Performance</h3>"
   ]
  },
  {
   "cell_type": "code",
   "execution_count": 159,
   "metadata": {},
   "outputs": [
    {
     "name": "stdout",
     "output_type": "stream",
     "text": [
      "Cross Validation Score: 0.9025312280207402\n",
      "train score: 0.9047714581870465\n",
      "test score: 0.8982948846539619\n",
      "Accuracy: 0.8982948846539619\n"
     ]
    }
   ],
   "source": [
    "X =  df.drop(columns = ['Name' , 'Date','Time','Status'])\n",
    "y = df['Status']\n",
    "\n",
    "X_train, X_test, y_train, y_test = train_test_split(X, y, stratify=y, random_state=42)\n",
    "\n",
    "ss=StandardScaler()\n",
    "X_train_sc=ss.fit_transform(X_train)\n",
    "X_test_sc=ss.transform(X_test)\n",
    "\n",
    "# Create Decision Tree classifer object and fit the model\n",
    "Status_classifier_2 = DecisionTreeClassifier(criterion=\"entropy\", max_depth=5,random_state=42).fit(X_train_sc,y_train)\n",
    "\n",
    "#Predict the response for test dataset\n",
    "y_predictions = Status_classifier_2.predict(X_test_sc)\n",
    "\n",
    "print(\"Cross Validation Score:\", cross_val_score(Status_classifier_2,X_train_sc,y_train,cv=10).mean())\n",
    "\n",
    "print('train score:' ,Status_classifier_2.score(X_train_sc,y_train))\n",
    "print('test score:' ,Status_classifier_2.score(X_test_sc,y_test))\n",
    "\n",
    "# Model Accuracy, how often is the classifier correct?\n",
    "print('Accuracy:' ,metrics.accuracy_score(y_true = y_test, y_pred = y_predictions))\n",
    "\n",
    "#actually entrophy not as good as gini"
   ]
  },
  {
   "cell_type": "markdown",
   "metadata": {},
   "source": [
    "<h2>Random Forest Classifier with Feature Selection</h2>"
   ]
  },
  {
   "cell_type": "code",
   "execution_count": 160,
   "metadata": {},
   "outputs": [],
   "source": [
    "from sklearn.ensemble import RandomForestClassifier"
   ]
  },
  {
   "cell_type": "code",
   "execution_count": 161,
   "metadata": {},
   "outputs": [
    {
     "name": "stdout",
     "output_type": "stream",
     "text": [
      "Cross Validation Score: 0.9048383053284714\n",
      "train score: 0.907112047346775\n",
      "test score: 0.9013039117352056\n",
      "Accuracy: 0.9013039117352056\n"
     ]
    }
   ],
   "source": [
    "\n",
    "X =  df.drop(columns = ['Name' , 'Date','Time','Status'])\n",
    "y = df['Status']\n",
    "\n",
    "X_train, X_test, y_train, y_test = train_test_split(X, y, stratify=y, random_state=42)\n",
    "\n",
    "ss=StandardScaler()\n",
    "X_train_sc=ss.fit_transform(X_train)\n",
    "X_test_sc=ss.transform(X_test)\n",
    "\n",
    "#Create a Classifier\n",
    "rf=RandomForestClassifier(n_estimators=10,max_depth = 5, random_state=42) #default 100\n",
    "\n",
    "#Train the model using the training sets y_pred=rf.predict(X_test)\n",
    "rf=rf.fit(X_train_sc,y_train)\n",
    "\n",
    "y_predictions=rf.predict(X_test_sc)\n",
    "\n",
    "#what to expect from model\n",
    "print(\"Cross Validation Score:\", cross_val_score(rf,X_train_sc,y_train,cv=10).mean())\n",
    "\n",
    "print('train score:' ,rf.score(X_train_sc,y_train))\n",
    "print('test score:' ,rf.score(X_test_sc,y_test))\n",
    "\n",
    "# Model Accuracy, how often is the classifier correct?\n",
    "print('Accuracy:' ,metrics.accuracy_score(y_true = y_test, y_pred = y_predictions))"
   ]
  },
  {
   "cell_type": "code",
   "execution_count": 162,
   "metadata": {},
   "outputs": [
    {
     "data": {
      "image/png": "[encoded data removed]",
      "text/plain": [
       "<Figure size 432x288 with 1 Axes>"
      ]
     },
     "metadata": {},
     "output_type": "display_data"
    }
   ],
   "source": [
    "features = pd.Series(rf.feature_importances_ , index= X_train.columns).sort_values(ascending=False)\n",
    "\n",
    "#visualize Feature Importance \n",
    "sns.barplot(x=features, y=features.index)\n",
    "plt.xlabel('Feature Importance Score')\n",
    "plt.ylabel('Features')\n",
    "plt.title(\"Visualizing Important Features\")\n",
    "plt.show()"
   ]
  },
  {
   "cell_type": "markdown",
   "metadata": {},
   "source": [
    "<h2>Retrain KNN with top 5 features </h2>"
   ]
  },
  {
   "cell_type": "code",
   "execution_count": 163,
   "metadata": {},
   "outputs": [
    {
     "name": "stdout",
     "output_type": "stream",
     "text": [
      "Cross Validation Score: 0.9086498961768248\n",
      "train score: 0.945965827398268\n",
      "test score: 0.90962888665998\n",
      "Accuracy: 0.90962888665998\n"
     ]
    }
   ],
   "source": [
    "X =  df[features.index[:5]]\n",
    "y = df['Status']\n",
    "\n",
    "X_train, X_test, y_train, y_test = train_test_split(X, y, stratify=y, random_state=42)\n",
    "\n",
    "ss=StandardScaler()\n",
    "X_train_sc=ss.fit_transform(X_train)\n",
    "X_test_sc=ss.transform(X_test)\n",
    "\n",
    "knn=KNeighborsClassifier()\n",
    "\n",
    "knn=knn.fit(X_train_sc,y_train)\n",
    "\n",
    "y_predictions=knn.predict(X_test_sc)\n",
    "\n",
    "#what to expect from the model\n",
    "print(\"Cross Validation Score:\", cross_val_score(knn,X_train_sc,y_train,cv=10).mean())\n",
    "\n",
    "print('train score:' ,knn.score(X_train_sc,y_train))\n",
    "print('test score:' ,knn.score(X_test_sc,y_test))\n",
    "\n",
    "# Model Accuracy, how often is the classifier correct?\n",
    "print('Accuracy:' ,metrics.accuracy_score(y_true = y_test, y_pred = y_predictions))\n"
   ]
  },
  {
   "cell_type": "markdown",
   "metadata": {},
   "source": [
    "<span style=\"color:red\"> KNN with 5 features behave better than the original KNN with all the features:\n",
    "\n",
    "<span style=\"color:blue\">KNN needs all points to be close along every axis in the data space. And each new axis added, by adding a new dimension, makes it harder and harder for two specific points to be close to each other in every axis."
   ]
  },
  {
   "cell_type": "markdown",
   "metadata": {},
   "source": [
    "<h2> Retrain Decision Tree with top 5 features</h2>"
   ]
  },
  {
   "cell_type": "code",
   "execution_count": 164,
   "metadata": {},
   "outputs": [
    {
     "name": "stdout",
     "output_type": "stream",
     "text": [
      "Cross Validation Score: 0.904069320559225\n",
      "train score: 0.9068779884308021\n",
      "test score: 0.9014042126379137\n",
      "Accuracy: 0.9014042126379137\n"
     ]
    }
   ],
   "source": [
    "X =  df[features.index[:5]]\n",
    "y = df['Status']\n",
    "\n",
    "X_train, X_test, y_train, y_test = train_test_split(X, y, stratify=y, random_state=42)\n",
    "\n",
    "ss=StandardScaler()\n",
    "X_train_sc=ss.fit_transform(X_train)\n",
    "X_test_sc=ss.transform(X_test)\n",
    "\n",
    "Status_classifier = DecisionTreeClassifier(max_depth=5, random_state=42)\n",
    "Status_classifier=Status_classifier.fit(X_train_sc, y_train)\n",
    "\n",
    "y_predictions = Status_classifier.predict(X_test_sc)\n",
    "\n",
    "print(\"Cross Validation Score:\", cross_val_score(Status_classifier,X_train_sc,y_train,cv=10).mean())\n",
    "\n",
    "print('train score:' ,Status_classifier.score(X_train_sc,y_train))\n",
    "print('test score:' ,Status_classifier.score(X_test_sc,y_test))\n",
    "\n",
    "print('Accuracy:' ,metrics.accuracy_score(y_true = y_test, y_pred = y_predictions))\n",
    "\n",
    "#Accuracy score is lower than the original Decision Tree model "
   ]
  },
  {
   "cell_type": "markdown",
   "metadata": {},
   "source": [
    "<h2> BONUS Choosing a K value for KNN</h2>"
   ]
  },
  {
   "cell_type": "code",
   "execution_count": 165,
   "metadata": {},
   "outputs": [],
   "source": [
    "X =  df.drop(columns = ['Name' , 'Date','Time','Status'])\n",
    "y = df['Status']\n",
    "\n",
    "X_train, X_test, y_train, y_test = train_test_split(X, y, stratify=y, random_state=42)\n",
    "\n",
    "ss=StandardScaler()\n",
    "X_train_sc=ss.fit_transform(X_train)\n",
    "X_test_sc=ss.transform(X_test)\n",
    "\n",
    "#knn=KNeighborsClassifier()\n",
    "#knn=knn.fit(X_train_sc,y_train)\n",
    "#y_predictions=knn.predict(X_test_sc)"
   ]
  },
  {
   "cell_type": "code",
   "execution_count": 166,
   "metadata": {},
   "outputs": [],
   "source": [
    "error_rate = []\n",
    "# Might take some time\n",
    "for i in range(1,40):\n",
    "    \n",
    "    knn = KNeighborsClassifier(n_neighbors=i)\n",
    "    knn.fit(X_train_sc,y_train)\n",
    "    pred_i = knn.predict(X_test)\n",
    "    error_rate.append(np.mean(pred_i != y_test))"
   ]
  },
  {
   "cell_type": "code",
   "execution_count": 167,
   "metadata": {},
   "outputs": [
    {
     "data": {
      "text/plain": [
       "Text(0, 0.5, 'Error Rate')"
      ]
     },
     "execution_count": 167,
     "metadata": {},
     "output_type": "execute_result"
    },
    {
     "data": {
      "image/png": "[encoded data removed]",
      "text/plain": [
       "<Figure size 720x432 with 1 Axes>"
      ]
     },
     "metadata": {},
     "output_type": "display_data"
    }
   ],
   "source": [
    "plt.figure(figsize=(10,6))\n",
    "plt.plot(range(1,40),error_rate,color='blue', linestyle='dashed', marker='o',\n",
    "         markerfacecolor='red', markersize=10)\n",
    "plt.title('Error Rate vs. K Value')\n",
    "plt.xlabel('K')\n",
    "plt.ylabel('Error Rate')"
   ]
  },
  {
   "cell_type": "code",
   "execution_count": null,
   "metadata": {},
   "outputs": [],
   "source": []
  }
 ],
 "metadata": {
  "kernelspec": {
   "display_name": "Python 3",
   "language": "python",
   "name": "python3"
  },
  "language_info": {
   "codemirror_mode": {
    "name": "ipython",
    "version": 3
   },
   "file_extension": ".py",
   "mimetype": "text/x-python",
   "name": "python",
   "nbconvert_exporter": "python",
   "pygments_lexer": "ipython3",
   "version": "3.8.5"
  }
 },
 "nbformat": 4,
 "nbformat_minor": 4
}
